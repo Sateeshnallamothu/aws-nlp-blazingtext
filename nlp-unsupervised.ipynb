{
 "cells": [
  {
   "cell_type": "code",
   "execution_count": 158,
   "metadata": {},
   "outputs": [
    {
     "name": "stdout",
     "output_type": "stream",
     "text": [
      "arn:aws:iam::023375022819:role/service-role/AmazonSageMaker-ExecutionRole-20181029T121824\n",
      "qanv-aws-1\n"
     ]
    }
   ],
   "source": [
    "import sagemaker\n",
    "from sagemaker import get_execution_role\n",
    "import json\n",
    "import boto3\n",
    "import pandas as pd\n",
    "sess = sagemaker.Session()\n",
    "import matplotlib.pyplot as plt\n",
    "import seaborn as sns\n",
    "role = get_execution_role()\n",
    "print(role) # This is the role that SageMaker would use to leverage AWS resources (S3, CloudWatch) on your behalf\n",
    "\n",
    "bucket = 'qanv-aws-1' #sess.default_bucket() # Replace with your own bucket name if needed\n",
    "print(bucket)\n",
    "#prefix = 'blazingtext/supervised' #Replace with the prefix under which you want to store the data if needed\n",
    "prefix = 'nlp/unsupervised' #Replace with the prefix under which you want to store the data if needed"
   ]
  },
  {
   "cell_type": "code",
   "execution_count": 122,
   "metadata": {},
   "outputs": [
    {
     "name": "stdout",
     "output_type": "stream",
     "text": [
      "/home/ec2-user/SageMaker/aws-ml-nlp\r\n"
     ]
    }
   ],
   "source": [
    "!pwd"
   ]
  },
  {
   "cell_type": "code",
   "execution_count": 2,
   "metadata": {},
   "outputs": [
    {
     "name": "stdout",
     "output_type": "stream",
     "text": [
      "--2019-03-13 00:46:13--  https://s3.amazonaws.com/fast-ai-nlp/amazon_review_polarity_csv.tgz\n",
      "Resolving s3.amazonaws.com (s3.amazonaws.com)... 52.216.233.13\n",
      "Connecting to s3.amazonaws.com (s3.amazonaws.com)|52.216.233.13|:443... connected.\n",
      "HTTP request sent, awaiting response... 200 OK\n",
      "Length: 688339454 (656M) [application/x-tar]\n",
      "Saving to: ‘amazon_review_polarity_csv.tgz.1’\n",
      "\n",
      "amazon_review_polar 100%[===================>] 656.45M  48.1MB/s    in 13s     \n",
      "\n",
      "2019-03-13 00:46:26 (49.7 MB/s) - ‘amazon_review_polarity_csv.tgz.1’ saved [688339454/688339454]\n",
      "\n"
     ]
    }
   ],
   "source": [
    "!wget https://s3.amazonaws.com/fast-ai-nlp/amazon_review_polarity_csv.tgz"
   ]
  },
  {
   "cell_type": "code",
   "execution_count": 3,
   "metadata": {},
   "outputs": [
    {
     "name": "stdout",
     "output_type": "stream",
     "text": [
      "amazon_review_polarity_csv/\n",
      "amazon_review_polarity_csv/train.csv\n",
      "amazon_review_polarity_csv/readme.txt\n",
      "amazon_review_polarity_csv/test.csv\n"
     ]
    }
   ],
   "source": [
    " \n",
    "!tar -xvzf amazon_review_polarity_csv.tgz\n",
    "#df = pd.read_csv(\"amazon_review_polarity_csv/train.csv\", names=[\"Label\", \"Title\", \"Review\"])"
   ]
  },
  {
   "cell_type": "code",
   "execution_count": 4,
   "metadata": {},
   "outputs": [],
   "source": [
    "test_df = pd.read_csv(\"/home/ec2-user/SageMaker/amazon_review_polarity_csv/test.csv\", names=[\"Label\", \"Title\", \"Review\"])\n"
   ]
  },
  {
   "cell_type": "code",
   "execution_count": 3,
   "metadata": {},
   "outputs": [
    {
     "data": {
      "text/plain": [
       "2    200000\n",
       "1    200000\n",
       "Name: Label, dtype: int64"
      ]
     },
     "execution_count": 3,
     "metadata": {},
     "output_type": "execute_result"
    }
   ],
   "source": [
    "test_df.Label.value_counts()"
   ]
  },
  {
   "cell_type": "code",
   "execution_count": 4,
   "metadata": {},
   "outputs": [
    {
     "data": {
      "text/plain": [
       "Label      int64\n",
       "Title     object\n",
       "Review    object\n",
       "dtype: object"
      ]
     },
     "execution_count": 4,
     "metadata": {},
     "output_type": "execute_result"
    }
   ],
   "source": [
    "test_df.dtypes"
   ]
  },
  {
   "cell_type": "code",
   "execution_count": 5,
   "metadata": {},
   "outputs": [
    {
     "data": {
      "text/html": [
       "<div>\n",
       "<style scoped>\n",
       "    .dataframe tbody tr th:only-of-type {\n",
       "        vertical-align: middle;\n",
       "    }\n",
       "\n",
       "    .dataframe tbody tr th {\n",
       "        vertical-align: top;\n",
       "    }\n",
       "\n",
       "    .dataframe thead th {\n",
       "        text-align: right;\n",
       "    }\n",
       "</style>\n",
       "<table border=\"1\" class=\"dataframe\">\n",
       "  <thead>\n",
       "    <tr style=\"text-align: right;\">\n",
       "      <th></th>\n",
       "      <th>Label</th>\n",
       "      <th>Title</th>\n",
       "      <th>Review</th>\n",
       "    </tr>\n",
       "  </thead>\n",
       "  <tbody>\n",
       "    <tr>\n",
       "      <th>149518</th>\n",
       "      <td>1</td>\n",
       "      <td>Poor Gilbert :-(</td>\n",
       "      <td>Poor Gilbert! He must have turned over in his ...</td>\n",
       "    </tr>\n",
       "    <tr>\n",
       "      <th>90156</th>\n",
       "      <td>1</td>\n",
       "      <td>too much of bad things can't be good</td>\n",
       "      <td>Usually I am able to fly through books by Larr...</td>\n",
       "    </tr>\n",
       "    <tr>\n",
       "      <th>32609</th>\n",
       "      <td>2</td>\n",
       "      <td>This is one nice cd.</td>\n",
       "      <td>Nas has done it again. This cd is all that. It...</td>\n",
       "    </tr>\n",
       "    <tr>\n",
       "      <th>175748</th>\n",
       "      <td>1</td>\n",
       "      <td>dont buy</td>\n",
       "      <td>This is trash I dont know who rates this devic...</td>\n",
       "    </tr>\n",
       "    <tr>\n",
       "      <th>221435</th>\n",
       "      <td>1</td>\n",
       "      <td>Not for technical use.</td>\n",
       "      <td>If you want read guitar amp appreciation, this...</td>\n",
       "    </tr>\n",
       "    <tr>\n",
       "      <th>316393</th>\n",
       "      <td>2</td>\n",
       "      <td>Written from the heart...</td>\n",
       "      <td>Mr. Sapoznik not only does an enviable job of ...</td>\n",
       "    </tr>\n",
       "    <tr>\n",
       "      <th>175026</th>\n",
       "      <td>1</td>\n",
       "      <td>Functional but not made to withstand travel</td>\n",
       "      <td>Its silly that this bag is so flimsy and not m...</td>\n",
       "    </tr>\n",
       "    <tr>\n",
       "      <th>309768</th>\n",
       "      <td>1</td>\n",
       "      <td>One of the worst....</td>\n",
       "      <td>I like her aerobics classes on TV but this boo...</td>\n",
       "    </tr>\n",
       "    <tr>\n",
       "      <th>71884</th>\n",
       "      <td>2</td>\n",
       "      <td>The Beasties have done it again!</td>\n",
       "      <td>Wow, what a good CD! I really like the Beastie...</td>\n",
       "    </tr>\n",
       "    <tr>\n",
       "      <th>143618</th>\n",
       "      <td>1</td>\n",
       "      <td>Sorry I bought it -- a one-time read at most</td>\n",
       "      <td>I saw several good reviews of this book but I ...</td>\n",
       "    </tr>\n",
       "  </tbody>\n",
       "</table>\n",
       "</div>"
      ],
      "text/plain": [
       "        Label                                         Title  \\\n",
       "149518      1                              Poor Gilbert :-(   \n",
       "90156       1          too much of bad things can't be good   \n",
       "32609       2                          This is one nice cd.   \n",
       "175748      1                                      dont buy   \n",
       "221435      1                        Not for technical use.   \n",
       "316393      2                     Written from the heart...   \n",
       "175026      1   Functional but not made to withstand travel   \n",
       "309768      1                          One of the worst....   \n",
       "71884       2              The Beasties have done it again!   \n",
       "143618      1  Sorry I bought it -- a one-time read at most   \n",
       "\n",
       "                                                   Review  \n",
       "149518  Poor Gilbert! He must have turned over in his ...  \n",
       "90156   Usually I am able to fly through books by Larr...  \n",
       "32609   Nas has done it again. This cd is all that. It...  \n",
       "175748  This is trash I dont know who rates this devic...  \n",
       "221435  If you want read guitar amp appreciation, this...  \n",
       "316393  Mr. Sapoznik not only does an enviable job of ...  \n",
       "175026  Its silly that this bag is so flimsy and not m...  \n",
       "309768  I like her aerobics classes on TV but this boo...  \n",
       "71884   Wow, what a good CD! I really like the Beastie...  \n",
       "143618  I saw several good reviews of this book but I ...  "
      ]
     },
     "execution_count": 5,
     "metadata": {},
     "output_type": "execute_result"
    }
   ],
   "source": [
    "test_df.sample(10)\n"
   ]
  },
  {
   "cell_type": "code",
   "execution_count": null,
   "metadata": {},
   "outputs": [],
   "source": []
  },
  {
   "cell_type": "code",
   "execution_count": 5,
   "metadata": {},
   "outputs": [
    {
     "name": "stdout",
     "output_type": "stream",
     "text": [
      "[nltk_data] Downloading package punkt to /home/ec2-user/nltk_data...\n",
      "[nltk_data]   Package punkt is already up-to-date!\n"
     ]
    },
    {
     "data": {
      "text/plain": [
       "True"
      ]
     },
     "execution_count": 5,
     "metadata": {},
     "output_type": "execute_result"
    }
   ],
   "source": [
    "from random import shuffle\n",
    "import multiprocessing\n",
    "from multiprocessing import Pool\n",
    "import csv\n",
    "import nltk\n",
    "nltk.download('punkt')"
   ]
  },
  {
   "cell_type": "code",
   "execution_count": 7,
   "metadata": {},
   "outputs": [],
   "source": [
    "index_to_label = {'1': 'Negative', '2': 'Positive'}"
   ]
  },
  {
   "cell_type": "code",
   "execution_count": 7,
   "metadata": {},
   "outputs": [],
   "source": [
    "def transform_instance(row):\n",
    "    cur_row = []\n",
    "    #label = \"__label__\" + index_to_label[row[0]]  #Prefix the index-ed label with __label__\n",
    "    #cur_row.append(label)\n",
    "    cur_row.extend(nltk.word_tokenize(row[1].lower()))\n",
    "    cur_row.extend(nltk.word_tokenize(row[2].lower()))\n",
    "    return cur_row"
   ]
  },
  {
   "cell_type": "code",
   "execution_count": 8,
   "metadata": {},
   "outputs": [],
   "source": [
    "def preprocess(input_file, output_file, keep=1):\n",
    "    all_rows = []\n",
    "    with open(input_file, 'r') as csvinfile:\n",
    "        csv_reader = csv.reader(csvinfile, delimiter=',')\n",
    "        for row in csv_reader:\n",
    "            all_rows.append(row)\n",
    "    shuffle(all_rows)\n",
    "    all_rows = all_rows[:int(keep*len(all_rows))]\n",
    "    pool = Pool(processes=multiprocessing.cpu_count())\n",
    "    transformed_rows = pool.map(transform_instance, all_rows)\n",
    "    pool.close() \n",
    "    pool.join()\n",
    "    \n",
    "    with open(output_file, 'w') as csvoutfile:\n",
    "        csv_writer = csv.writer(csvoutfile, delimiter=' ', lineterminator='\\n')\n",
    "        csv_writer.writerows(transformed_rows)"
   ]
  },
  {
   "cell_type": "code",
   "execution_count": null,
   "metadata": {},
   "outputs": [],
   "source": [
    "%%timeit\n",
    "# Preparing the training dataset\n",
    "\n",
    "# Since preprocessing the whole dataset might take a couple of mintutes,\n",
    "# we keep 20% of the training dataset for this demo.\n",
    "# Set keep to 1 if you want to use the complete dataset\n",
    "preprocess('/home/ec2-user/SageMaker/amazon_review_polarity_csv/train.csv', 'polarity_un.train', keep=.2)\n",
    "        \n",
    "# Preparing the validation dataset        \n",
    "preprocess('/home/ec2-user/SageMaker/amazon_review_polarity_csv/test.csv', 'polarity_un.validation')"
   ]
  },
  {
   "cell_type": "code",
   "execution_count": 12,
   "metadata": {},
   "outputs": [
    {
     "name": "stdout",
     "output_type": "stream",
     "text": [
      "CPU times: user 4.05 s, sys: 1.2 s, total: 5.25 s\n",
      "Wall time: 8.21 s\n"
     ]
    }
   ],
   "source": [
    "%%time\n",
    "\n",
    "train_channel = prefix + '/train'\n",
    "validation_channel = prefix + '/validation'\n",
    "\n",
    "sess.upload_data(path='polarity_un.train', bucket=bucket, key_prefix=train_channel)\n",
    "sess.upload_data(path='polarity_un.validation', bucket=bucket, key_prefix=validation_channel)\n",
    "\n",
    "s3_train_data = 's3://{}/{}'.format(bucket, train_channel)\n",
    "s3_validation_data = 's3://{}/{}'.format(bucket, validation_channel)\n",
    "s3_output_location = 's3://{}/{}/output'.format(bucket, prefix)"
   ]
  },
  {
   "cell_type": "code",
   "execution_count": 13,
   "metadata": {},
   "outputs": [
    {
     "name": "stdout",
     "output_type": "stream",
     "text": [
      "Using SageMaker BlazingText container: 811284229777.dkr.ecr.us-east-1.amazonaws.com/blazingtext:latest (us-east-1)\n"
     ]
    }
   ],
   "source": [
    "region_name = boto3.Session().region_name\n",
    "container = sagemaker.amazon.amazon_estimator.get_image_uri(region_name, \"blazingtext\", \"latest\")\n",
    "print('Using SageMaker BlazingText container: {} ({})'.format(container, region_name))\n"
   ]
  },
  {
   "cell_type": "code",
   "execution_count": 15,
   "metadata": {},
   "outputs": [],
   "source": [
    "bt_model = sagemaker.estimator.Estimator(container,\n",
    "                                         role, \n",
    "                                         base_job_name = 'qanv',\n",
    "                                         train_instance_count=1, \n",
    "                                         train_instance_type='ml.c4.4xlarge',\n",
    "                                         train_volume_size = 30,\n",
    "                                         train_max_run = 360000,\n",
    "                                         input_mode= 'File',\n",
    "                                         output_path=s3_output_location,\n",
    "                                         sagemaker_session=sess)\n",
    "bt_model.set_hyperparameters(mode=\"cbow\",\n",
    "                            epochs=10,\n",
    "                            min_count=2,\n",
    "                            learning_rate=0.05,\n",
    "                            sampling_threshold=0.0001,\n",
    "                            vector_dim=100,\n",
    "                            negative_samples=5,\n",
    "                            early_stopping=True,\n",
    "                            patience=4,\n",
    "                            min_epochs=5)"
   ]
  },
  {
   "cell_type": "code",
   "execution_count": 16,
   "metadata": {},
   "outputs": [],
   "source": [
    "train_data = sagemaker.session.s3_input(s3_train_data, distribution='FullyReplicated', \n",
    "                        content_type='text/plain', s3_data_type='S3Prefix')\n",
    "validation_data = sagemaker.session.s3_input(s3_validation_data, distribution='FullyReplicated', \n",
    "                             content_type='text/plain', s3_data_type='S3Prefix')\n",
    "data_channels = {'train': train_data, 'validation': validation_data}"
   ]
  },
  {
   "cell_type": "code",
   "execution_count": 17,
   "metadata": {},
   "outputs": [
    {
     "name": "stderr",
     "output_type": "stream",
     "text": [
      "INFO:sagemaker:Creating training-job with name: qanv-2019-03-13-16-48-02-211\n"
     ]
    },
    {
     "name": "stdout",
     "output_type": "stream",
     "text": [
      "2019-03-13 16:48:02 Starting - Starting the training job...\n",
      "2019-03-13 16:48:03 Starting - Launching requested ML instances......\n",
      "2019-03-13 16:49:08 Starting - Preparing the instances for training...\n",
      "2019-03-13 16:49:58 Downloading - Downloading input data\n",
      "2019-03-13 16:49:58 Training - Training image download completed. Training in progress.....\n",
      "\u001b[31mArguments: train\u001b[0m\n",
      "\u001b[31m[03/13/2019 16:49:58 WARNING 139967447238464] Loggers have already been setup.\u001b[0m\n",
      "\u001b[31m[03/13/2019 16:49:58 WARNING 139967447238464] Loggers have already been setup.\u001b[0m\n",
      "\u001b[31m[03/13/2019 16:49:58 INFO 139967447238464] nvidia-smi took: 0.025171995163 secs to identify 0 gpus\u001b[0m\n",
      "\u001b[31m[03/13/2019 16:49:58 INFO 139967447238464] Running single machine CPU BlazingText training using cbow mode.\u001b[0m\n",
      "\u001b[31m[03/13/2019 16:49:58 INFO 139967447238464] Processing /opt/ml/input/data/train/polarity_un.train . File size: 304 MB\u001b[0m\n",
      "\u001b[31m[03/13/2019 16:49:58 INFO 139967447238464] Processing /opt/ml/input/data/validation/polarity_un.validation . File size: 169 MB\u001b[0m\n",
      "\u001b[31mRead 10M words\u001b[0m\n",
      "\u001b[31mRead 20M words\u001b[0m\n",
      "\u001b[31mRead 30M words\u001b[0m\n",
      "\u001b[31mRead 40M words\u001b[0m\n",
      "\u001b[31mRead 50M words\u001b[0m\n",
      "\u001b[31mRead 60M words\u001b[0m\n",
      "\u001b[31mRead 65M words\u001b[0m\n",
      "\u001b[31mNumber of words:  221970\u001b[0m\n",
      "\u001b[31m##### Alpha: 0.0490  Progress: 2.09%  Million Words/sec: 5.24 #####\u001b[0m\n",
      "\u001b[31m##### Alpha: 0.0464  Progress: 7.23%  Million Words/sec: 8.02 #####\u001b[0m\n",
      "\u001b[31m##### Alpha: 0.0438  Progress: 12.37%  Million Words/sec: 8.80 #####\u001b[0m\n",
      "\u001b[31m##### Alpha: 0.0412  Progress: 17.51%  Million Words/sec: 9.17 #####\u001b[0m\n",
      "\u001b[31m##### Alpha: 0.0387  Progress: 22.53%  Million Words/sec: 9.39 #####\u001b[0m\n",
      "\u001b[31m##### Alpha: 0.0362  Progress: 27.53%  Million Words/sec: 9.53 #####\u001b[0m\n",
      "\u001b[31m##### Alpha: 0.0337  Progress: 32.54%  Million Words/sec: 9.63 #####\u001b[0m\n",
      "\u001b[31m##### Alpha: 0.0312  Progress: 37.55%  Million Words/sec: 9.71 #####\u001b[0m\n",
      "\u001b[31m##### Alpha: 0.0287  Progress: 42.70%  Million Words/sec: 9.77 #####\u001b[0m\n",
      "\u001b[31m##### Alpha: 0.0261  Progress: 47.71%  Million Words/sec: 9.82 #####\u001b[0m\n",
      "\u001b[31m##### Alpha: 0.0236  Progress: 52.85%  Million Words/sec: 9.85 #####\u001b[0m\n",
      "\u001b[31m##### Alpha: 0.0211  Progress: 57.85%  Million Words/sec: 9.88 #####\u001b[0m\n",
      "\u001b[31m##### Alpha: 0.0185  Progress: 63.01%  Million Words/sec: 9.91 #####\u001b[0m\n",
      "\u001b[31m##### Alpha: 0.0160  Progress: 68.01%  Million Words/sec: 9.93 #####\u001b[0m\n",
      "\u001b[31m##### Alpha: 0.0135  Progress: 73.01%  Million Words/sec: 9.95 #####\u001b[0m\n",
      "\u001b[31m##### Alpha: 0.0110  Progress: 78.02%  Million Words/sec: 9.97 #####\u001b[0m\n",
      "\u001b[31m##### Alpha: 0.0084  Progress: 83.17%  Million Words/sec: 9.99 #####\u001b[0m\n",
      "\u001b[31m##### Alpha: 0.0058  Progress: 88.32%  Million Words/sec: 10.00 #####\u001b[0m\n",
      "\u001b[31m##### Alpha: 0.0033  Progress: 93.32%  Million Words/sec: 10.01 #####\u001b[0m\n",
      "\u001b[31m##### Alpha: 0.0008  Progress: 98.33%  Million Words/sec: 10.02 #####\u001b[0m\n",
      "\u001b[31m##### Alpha: 0.0000  Progress: 100.00%  Million Words/sec: 10.02 #####\u001b[0m\n",
      "\u001b[31mTraining finished.\u001b[0m\n",
      "\u001b[31mAverage throughput in Million words/sec: 10.02\u001b[0m\n",
      "\u001b[31mTotal training time in seconds: 65.39\u001b[0m\n",
      "\u001b[31mEvaluating word embeddings....\u001b[0m\n",
      "\u001b[31mVectors read from: /opt/ml/model/vectors.txt \u001b[0m\n",
      "\u001b[31m{\n",
      "    \"EN-WS-353-ALL.txt\": {\n",
      "        \"not_found\": 2, \n",
      "        \"spearmans_rho\": 0.5795943981067397, \n",
      "        \"total_pairs\": 353\n",
      "    }, \n",
      "    \"EN-WS-353-REL.txt\": {\n",
      "        \"not_found\": 1, \n",
      "        \"spearmans_rho\": 0.5222618744822383, \n",
      "        \"total_pairs\": 252\n",
      "    }, \n",
      "    \"EN-WS-353-SIM.txt\": {\n",
      "        \"not_found\": 1, \n",
      "        \"spearmans_rho\": 0.6666242012029381, \n",
      "        \"total_pairs\": 203\n",
      "    }, \n",
      "    \"mean_rho\": 0.589493491263972\u001b[0m\n",
      "\u001b[31m}\u001b[0m\n",
      "\u001b[31m[03/13/2019 16:51:35 INFO 139967447238464] #mean_rho: 0.589493491264\u001b[0m\n",
      "\n",
      "2019-03-13 16:51:40 Uploading - Uploading generated training model\n",
      "2019-03-13 16:52:47 Completed - Training job completed\n",
      "Billable seconds: 186\n"
     ]
    }
   ],
   "source": [
    "bt_model.fit(inputs=data_channels, logs=True)"
   ]
  },
  {
   "cell_type": "code",
   "execution_count": 18,
   "metadata": {},
   "outputs": [
    {
     "name": "stderr",
     "output_type": "stream",
     "text": [
      "INFO:sagemaker:Creating model with name: blazingtext-2019-03-13-17-28-37-472\n",
      "INFO:sagemaker:Creating endpoint with name qanv-2019-03-13-16-48-02-211\n"
     ]
    },
    {
     "name": "stdout",
     "output_type": "stream",
     "text": [
      "---------------------------------------------------------------------------!"
     ]
    }
   ],
   "source": [
    "text_classifier = bt_model.deploy(initial_instance_count = 1,instance_type = 'ml.m4.xlarge')"
   ]
  },
  {
   "cell_type": "code",
   "execution_count": 36,
   "metadata": {},
   "outputs": [
    {
     "name": "stdout",
     "output_type": "stream",
     "text": [
      "[{'vector': [0.0, 0.0, 0.0, 0.0, 0.0, 0.0, 0.0, 0.0, 0.0, 0.0, 0.0, 0.0, 0.0, 0.0, 0.0, 0.0, 0.0, 0.0, 0.0, 0.0, 0.0, 0.0, 0.0, 0.0, 0.0, 0.0, 0.0, 0.0, 0.0, 0.0, 0.0, 0.0, 0.0, 0.0, 0.0, 0.0, 0.0, 0.0, 0.0, 0.0, 0.0, 0.0, 0.0, 0.0, 0.0, 0.0, 0.0, 0.0, 0.0, 0.0, 0.0, 0.0, 0.0, 0.0, 0.0, 0.0, 0.0, 0.0, 0.0, 0.0, 0.0, 0.0, 0.0, 0.0, 0.0, 0.0, 0.0, 0.0, 0.0, 0.0, 0.0, 0.0, 0.0, 0.0, 0.0, 0.0, 0.0, 0.0, 0.0, 0.0, 0.0, 0.0, 0.0, 0.0, 0.0, 0.0, 0.0, 0.0, 0.0, 0.0, 0.0, 0.0, 0.0, 0.0, 0.0, 0.0, 0.0, 0.0, 0.0, 0.0], 'word': 'horrrrible'}, {'vector': [2.2700140476226807, 0.6127733588218689, -0.48993268609046936, -0.014852423220872879, 1.1655844449996948, -1.9192851781845093, -1.2825520038604736, 1.6169021129608154, -2.3218791484832764, -1.2199220657348633, -1.3224515914916992, -1.4580748081207275, 0.4723014235496521, 1.117205023765564, 0.22182601690292358, -1.0629606246948242, 3.4273619651794434, -2.3054604530334473, 0.8330034613609314, -1.7547646760940552, 3.6889243125915527, 0.4035491943359375, -0.7879123687744141, 1.3946644067764282, -0.40026769042015076, 0.8010654449462891, 1.7183161973953247, -0.36059868335723877, 0.22606462240219116, 1.9076353311538696, -1.607001543045044, -0.9314155578613281, 3.5501914024353027, -0.2117525190114975, -1.5947232246398926, -1.8664815425872803, -1.4928483963012695, -2.4030280113220215, 2.933398962020874, 1.6036072969436646, 2.104971408843994, -0.42958515882492065, 1.0093756914138794, -1.1815730333328247, 0.17633502185344696, 0.766140341758728, -1.8467482328414917, -0.04136602208018303, -0.8494100570678711, -0.5526872277259827, -0.6106553673744202, 2.147697687149048, -1.616005301475525, 1.8372621536254883, -0.7367984056472778, 1.3067302703857422, -1.0235246419906616, -2.0521929264068604, -0.894559919834137, 0.6161395311355591, -0.5156658887863159, -1.9551690816879272, -0.23986627161502838, -1.6026982069015503, -1.1639914512634277, -3.856889247894287, 2.525651454925537, 1.2849494218826294, -0.9932186007499695, -0.9923727512359619, -1.7604962587356567, 0.7375569939613342, 0.18363267183303833, 1.6330726146697998, -0.15756855905056, 0.5772324800491333, 0.04796319827437401, -0.5925252437591553, -0.6363472938537598, 0.1164870485663414, -0.9090267419815063, 1.0944108963012695, -0.08682527393102646, 1.1049126386642456, -0.3734036087989807, -0.33862754702568054, 2.979867458343506, -0.28778624534606934, 0.7002828121185303, 1.000280737876892, -0.5827201008796692, -0.9632132053375244, -2.0329606533050537, -2.127620220184326, -1.3824397325515747, 0.6268081068992615, -0.03956710547208786, -2.220831871032715, 0.6580016016960144, -0.8535075187683105], 'word': 'trash'}]\n"
     ]
    }
   ],
   "source": [
    "words = [\"horrrrible\", \"trash\"]\n",
    "\n",
    "payload = {\"instances\" : words}\n",
    "response = text_classifier.predict(json.dumps(payload))\n",
    "\n",
    "vecs = json.loads(response)\n",
    "print(vecs)"
   ]
  },
  {
   "cell_type": "code",
   "execution_count": 24,
   "metadata": {},
   "outputs": [
    {
     "data": {
      "text/plain": [
       "1"
      ]
     },
     "execution_count": 24,
     "metadata": {},
     "output_type": "execute_result"
    }
   ],
   "source": [
    "len(vecs)"
   ]
  },
  {
   "cell_type": "code",
   "execution_count": null,
   "metadata": {},
   "outputs": [],
   "source": [
    "#sess.delete_endpoint(text_classifier.endpoint)"
   ]
  },
  {
   "cell_type": "code",
   "execution_count": 29,
   "metadata": {},
   "outputs": [],
   "source": [
    "s3 = boto3.resource('s3')\n",
    "\n",
    "key = bt_model.model_data[bt_model.model_data.find(\"/\", 5)+1:]\n",
    "s3.Bucket(bucket).download_file(key, 'model.tar.gz')"
   ]
  },
  {
   "cell_type": "code",
   "execution_count": 30,
   "metadata": {},
   "outputs": [
    {
     "name": "stdout",
     "output_type": "stream",
     "text": [
      "vectors.bin\n",
      "vectors.txt\n",
      "eval.json\n"
     ]
    }
   ],
   "source": [
    "!tar -xvzf model.tar.gz\n"
   ]
  },
  {
   "cell_type": "code",
   "execution_count": 31,
   "metadata": {},
   "outputs": [
    {
     "name": "stdout",
     "output_type": "stream",
     "text": [
      "{\r\n",
      "    \"EN-WS-353-ALL.txt\": {\r\n",
      "        \"not_found\": 2, \r\n",
      "        \"spearmans_rho\": 0.5795943981067397, \r\n",
      "        \"total_pairs\": 353\r\n",
      "    }, \r\n",
      "    \"EN-WS-353-REL.txt\": {\r\n",
      "        \"not_found\": 1, \r\n",
      "        \"spearmans_rho\": 0.5222618744822383, \r\n",
      "        \"total_pairs\": 252\r\n",
      "    }, \r\n",
      "    \"EN-WS-353-SIM.txt\": {\r\n",
      "        \"not_found\": 1, \r\n",
      "        \"spearmans_rho\": 0.6666242012029381, \r\n",
      "        \"total_pairs\": 203\r\n",
      "    }, \r\n",
      "    \"mean_rho\": 0.589493491263972\r\n",
      "}"
     ]
    }
   ],
   "source": [
    "!cat eval.json"
   ]
  },
  {
   "cell_type": "code",
   "execution_count": 33,
   "metadata": {},
   "outputs": [
    {
     "name": "stdout",
     "output_type": "stream",
     "text": [
      "'transfer 0.062377 -0.10936 -0.12911 -0.11181 -0.11554 0.1634 -0.23542 0.046187 -0.065376 -0.12088 -0.076733 -0.03615 -0.088259 0.13347 -0.20051 0.21715 -0.038717 -0.12783 -0.059941 -0.1095 0.076013 0.20342 -0.056472 0.00072833 -0.14937 0.060273 0.11839 -0.065265 -0.21392 -0.030054 0.0033082 0.094757 0.13524 -0.042168 -0.25884 -0.0055309 0.033899 -0.065565 -0.094133 0.0097037 -0.025183 0.082376 0.082879 -0.0093927 0.097018 -0.15122 0.038692 -0.18472 -0.078521 -0.033271 -0.12886 -0.088696 -0.11394 0.33585 0.17094 -0.10686 0.07123 0.031806 0.025187 0.11603 0.15862 -0.016338 0.33123 0.054597 0.21702 -0.083176 -0.15199 -0.00026778 -0.088092 -0.26373 -0.060427 -0.12375 -0.070398 0.0021898 -0.18187 -0.23028 0.16315 0.068779 0.34453 -0.016138 0.082578 -0.017507 -0.040703 -0.086547 0.11493 0.1013 0.1472 0.28237 -0.11882 0.13482 0.11589 -0.13882 0.19688 -0.17772 -0.13909 -0.13836 -0.21253 -0.0050515 0.08291 -0.13659 \r\n",
      "damagingly 0.17294 0.25935 -0.055217 0.046135 0.15599 0.08519 -0.29102 0.19346 0.14566 0.013346 -0.048106 0.044108 0.11856 -0.010262 -0.14946 0.049516 -0.075208 -0.052606 -0.03879 -0.058603 0.074356 0.044908 0.0834 0.017565 0.014629 0.054791 0.1391 -0.17536 -0.24875 0.0927 -0.10874 -0.02067 0.011921 -0.12026 -0.09823 -0.039765 0.041232 -0.13112 -0.10489 -0.012878 -0.14317 0.16648 0.12028 0.15417 0.18273 0.075554 0.17681 -0.16158 0.11598 0.063994 -0.29659 -0.20616 -0.12384 0.1677 0.0027262 -0.075832 -0.0062087 -0.26276 0.10489 0.11798 0.31556 0.12104 0.26448 -0.092649 0.2101 0.019283 -0.066927 0.069971 -0.013852 0.0020553 -0.1825 0.050165 0.060114 -0.035851 -0.18319 0.088546 0.090903 0.15752 0.11343 0.056216 -0.031523 0.017553 -0.031543 0.051997 0.18384 0.22581 0.077884 0.20223 -0.097228 0.11233 -0.10953 0.10371 0.20925 -0.097452 -0.19838 -0.063135 -0.0016065 0.13435 -0.13559 0.13463 \r\n",
      "horrrrrible 0.071896 0.084056 -0.025822 0.041826 0.0070426 -0.05518 -0.040001 0.17259 0.013001 0.074253 -0.0035898 0.0050925 0.07148 0.011655 -0.069844 -0.05301 0.026523 -0.09924 -0.070884 -0.14093 0.050231 0.15734 0.017285 0.098784 -0.18744 -0.0795 0.085012 0.038713 -0.10794 0.051521 0.012079 0.062223 -0.024485 -0.026963 -0.049868 -0.090712 0.040091 -0.032108 0.039392 0.054755 -0.14396 0.12449 -0.029594 0.069146 0.11291 0.057328 0.080069 -0.05978 0.014807 0.00080791 -0.043523 0.1211 -0.0036824 0.10743 -0.0095374 0.0086819 0.0043387 -0.018309 -0.062563 0.02725 0.062247 -0.019811 0.046016 0.13133 0.09608 0.053669 -0.016545 0.011667 -0.030275 -0.073419 0.0060416 -0.050874 -0.095964 0.049082 0.010072 0.13693 0.053983 -0.073736 -0.009728 -0.046584 0.011945 0.15332 -0.013296 -0.023832 0.23289 0.099679 0.032912 0.064328 -0.017125 0.041841 0.012602 0.0021891 0.17175 -0.055776 -0.072004 -0.094306 -0.090934 0.018649 -0.091975 -0.0485 \r\n",
      "sounding.if -0.0068989 0.053014 0.0045017 0.13134 0.08994 -0.032086 -0.41563 0.05115 0.018342 -0.093399 0.015101 -0.079342 0.081249 -0.050317 0.039694 0.15115 0.0050499 -0.13775 -0.24887 0.060524 0.016335 -0.05656 -0.020888 -0.0035316 0.036348 0.1098 0.1387 -0.14062 -0.096278 -0.053527 -0.024206 0.028928 0.0045652 0.033585 -0.15185 -0.23506 0.236 -0.11945 0.067873 -0.025353 -0.22402 -0.0081061 0.028793 -0.0017337 0.026782 -0.019142 0.20032 -0.16753 0.12303 0.068042 -0.26819 -0.28483 0.014799 -0.0052118 0.26366 -0.043849 -0.18232 0.065529 -0.039209 -0.079437 0.0028836 -0.1754 -0.029034 0.064678 0.10894 0.082026 -0.079953 0.013038 -0.025947 -0.043068 -0.096817 0.23657 -0.099099 0.15973 -0.0093101 -0.066723 0.19568 0.13673 0.0081831 0.18099 0.092838 0.079135 0.23393 0.23379 0.023043 0.23332 0.084628 0.072327 -0.10598 -0.017495 -0.036586 0.068352 -0.066623 -0.069 0.054943 0.0074777 -0.33054 0.062081 0.099607 -0.0074729 \r\n",
      "punishers 0.14798 0.077339 -0.071786 0.0023391 -0.088025 -0.1633 -0.13134 0.017566 0.011794 -0.070652 -0.1212 -0.05252 0.084266 0.082834 -0.068437 0.15824 -0.020748 -0.059626 -0.15716 0.00085045 0.11941 0.07609 -0.116 0.16153 -0.28858 0.014105 0.13648 0.016134 -0.18079 0.067596 -0.0065822 0.067383 -0.11734 0.038558 -0.16965 0.02698 0.082508 -0.04328 0.012599 0.07837 0.086516 0.035585 0.062168 0.19405 0.11454 0.027009 0.11908 0.048013 0.016422 0.028786 -0.0696 -0.088514 -0.12012 0.1641 -0.18001 -0.23003 -0.15104 -0.082365 0.12606 0.040384 0.16597 -0.14207 0.23362 0.015083 0.26459 0.050436 -0.093952 -0.15936 -0.088365 -0.12387 -0.075277 0.11439 0.0082281 -0.21332 -0.089666 -0.076256 0.094176 -0.01597 -0.00080464 0.082011 0.11001 -0.00037691 0.063172 -0.087782 0.063697 0.10445 0.19254 0.098572 -0.18996 -0.066728 0.14699 -0.088878 0.13855 -0.16073 -0.094505 -0.032772 -0.050604 0.042275 -0.10014 0.013897 \r\n",
      "/which 0.059461 -0.15776 0.047407 -0.085825 0.054261 -0.044074 -0.079445 -0.011949 0.10833 -0.042839 -0.072989 0.032239 0.030114 0.025048 -0.066112 0.092192 -0.021464 -0.07285 -0.038243 -0.13666 0.16766 0.020118 -0.10408 -0.16335 0.049303 0.15934 0.048975 -0.011627 -0.22443 0.18296 -0.08652 -0.073342 -0.0080157 -0.11619 -0.12113 -0.083356 -0.17157 0.0024818 -0.21005 -0.14625 0.01202 -0.10928 0.21535 0.091761 0.19889 -0.08489 -0.1272 -0.0079985 0.21778 -0.011806 0.0084141 -0.089039 -0.096427 -0.13361 -0.15288 -0.05685 -0.0097485 -0.00048482 -0.095387 0.028823 0.10903 -0.15082 0.062457 -0.023395 -0.024046 -0.12272 -0.15747 0.011776 0.08165 -0.092173 -0.021816 -0.17425 0.10756 -0.025072 0.16599 -0.0080628 0.15209 -0.021012 0.22381 0.17664 -0.18595 -0.04688 0.0060682 -0.037631 0.15267 -0.015273 0.0023142 0.085671 -0.077646 -0.08502 0.10678 0.11535 -0.072099 -0.10186 -0.14251 0.049002 -0.043363 -0.04805 0.10043 -0.023615 \r\n",
      "'lisey 0.26839 0.056422 0.028553 -0.13977 0.071853 -0.16863 -0.14019 0.14969 0.092389 0.037647 -0.025526 0.0025847 -0.062282 -0.13862 -0.16159 0.079124 0.074933 -0.02661 0.021051 -0.054503 0.030032 -0.0061612 -0.071165 0.13018 0.050771 0.017217 0.30234 -0.12588 -0.12381 -0.010424 0.08914 -0.0297 -0.1208 -0.14443 -0.21601 -0.2008 0.083768 -0.11491 -0.20241 0.040381 -0.029758 0.02071 0.12009 0.19668 0.12712 -0.0026342 0.012532 -0.037706 -0.051952 -0.077724 -0.20118 0.073519 -0.050818 0.16387 -0.11088 -0.054474 -0.010545 0.12802 0.15012 -0.0058981 0.18681 -0.064018 0.16629 0.067805 0.28844 0.028462 0.1029 0.0017953 -0.014516 -0.12969 -0.087465 -0.003036 0.18013 0.006853 -0.11719 -0.051761 0.021348 0.022172 -0.013387 -0.11251 0.10682 0.1174 0.16094 -0.0054853 0.17287 0.0067521 0.051987 0.23119 -0.030781 0.014318 0.14207 -0.015118 0.063056 -0.18142 -0.16467 -0.054273 -0.12217 -0.06594 -0.21429 0.066471 \r\n",
      "23g -0.087027 -0.076364 0.041294 0.13045 0.15196 0.13046 -0.051898 -0.12284 -0.00046922 -0.037226 0.10257 0.061791 -0.062205 -0.11118 -0.11765 -0.27442 0.041699 -0.059133 0.064865 -0.035056 0.043617 -0.11965 -0.041294 0.011218 -0.027585 -0.018918 -0.10021 -0.10543 0.078442 0.093955 -0.16899 -0.081224 -0.020389 -0.056437 0.035007 0.0086017 -0.021345 0.012141 -0.16564 -0.046417 -0.13334 -0.099044 -0.075121 -0.04529 0.081864 -0.056328 0.031746 -0.06229 -0.10464 0.01491 -0.19598 -0.073275 0.0027839 0.048837 0.046533 0.0099823 0.040933 0.075693 -0.032417 -0.0072009 -0.095299 0.0062328 -0.075672 0.04841 -0.048155 0.093724 -0.17775 0.035522 0.12312 0.042273 0.046296 -0.27336 0.024208 0.16786 -0.064906 -0.14416 0.013438 -0.047328 0.078862 0.065371 0.10111 -0.087512 0.05752 -0.12133 0.046898 -0.22449 0.080602 -0.046365 -0.088233 -0.17585 -0.021834 -0.1123 0.2645 -0.08989 0.024323 -0.19836 0.017607 0.04433 -0.0095322 -0.024931 \r\n",
      "integrationist 0.089583 0.23738 0.041089 -0.014133 -0.096228 0.10533 -0.24042 -0.057644 -0.072603 0.10461 -0.023444 -0.0058578 -0.041165 0.045896 0.03351 -0.042201 -0.1375 -0.025133 -0.0093547 -0.05654 -0.10033 0.035103 -0.18269 0.012697 -0.16674 0.15153 -0.037304 0.071171 -0.053001 -0.055296 0.046229 -0.10633 -0.18058 0.005104 0.023705 -0.024421 0.024511 -0.21619 -0.21366 -0.093305 -0.076599 0.16546 -0.017718 0.023766 0.016456 -0.019944 0.032023 -0.051685 0.10834 -0.065107 -0.1109 -0.0017045 -0.084151 -0.035791 -0.0086689 0.18912 -0.058152 0.17284 0.18848 0.099728 0.11843 0.11457 0.16038 0.1247 0.024217 0.11224 -0.10122 0.044117 0.029157 -0.060767 -0.077908 -0.045497 0.14069 0.012436 0.008219 -0.11288 0.021126 0.0036956 -0.013759 0.011893 0.093678 0.16916 0.025496 -0.015913 0.019183 -0.15647 0.084583 0.20734 -0.13687 -0.061609 0.067519 -0.092616 0.23739 -0.033214 0.051685 -0.18578 -0.0444 0.12938 0.082613 -0.20529 \r\n",
      "performances.. 0.10163 0.034149 0.085245 -0.014226 0.072201 0.073515 -0.076536 0.1681 0.20521 0.15678 0.095236 0.043504 -0.1909 -0.061954 -0.099482 0.036352 0.022969 0.050782 -0.20482 -0.039884 -0.028157 0.081197 0.042176 -0.082171 -0.13819 -0.17708 0.25063 0.095311 -0.040906 0.01954 -0.057398 0.013831 -0.15624 0.083086 -0.20258 -0.017838 -0.041092 0.063113 -0.048283 -0.094319 0.013271 0.099356 -0.00031813 0.033946 0.15975 0.0052207 0.053324 0.053279 0.1205 0.043261 -0.29569 -0.13823 -0.13734 0.05885 -0.12663 -0.037493 -0.055805 -0.070878 -0.062196 0.05116 0.042204 0.075734 0.14079 -0.075698 0.2541 0.036755 0.0075294 0.071182 -0.025085 -0.083775 0.089887 0.021059 0.033608 -0.17955 -0.17313 -0.090642 0.22165 0.1867 0.0031421 -0.10403 0.11152 0.078804 -0.069383 -0.24748 0.03889 0.12276 0.10388 0.10654 -0.096989 0.058705 0.142 0.030831 0.37045 -0.12776 -0.032373 -0.05684 -0.20315 0.031283 0.097082 -0.0051795 \r\n"
     ]
    }
   ],
   "source": [
    "!tail vectors.txt"
   ]
  },
  {
   "cell_type": "code",
   "execution_count": 50,
   "metadata": {},
   "outputs": [],
   "source": [
    "import numpy as np\n",
    "from sklearn.preprocessing import normalize\n",
    "\n",
    "# Read the 400 most frequent word vectors. The vectors in the file are in descending order of frequency.\n",
    "num_points = 100\n",
    "\n",
    "first_line = True\n",
    "index_to_word = []\n",
    "with open(\"vectors.txt\",\"r\") as f:\n",
    "    for line_num, line in enumerate(f):\n",
    "        if first_line:\n",
    "            dim = int(line.strip().split()[1])\n",
    "            word_vecs = np.zeros((num_points, dim), dtype=float)\n",
    "            first_line = False\n",
    "            continue\n",
    "        line = line.strip()\n",
    "        word = line.split()[0]\n",
    "        vec = word_vecs[line_num-1]\n",
    "        for index, vec_val in enumerate(line.split()[1:]):\n",
    "            vec[index] = float(vec_val)\n",
    "        index_to_word.append(word)\n",
    "        if line_num >= num_points:\n",
    "            break\n",
    "word_vecs = normalize(word_vecs, copy=False, return_norm=False)"
   ]
  },
  {
   "cell_type": "code",
   "execution_count": 44,
   "metadata": {},
   "outputs": [
    {
     "data": {
      "text/plain": [
       "(array([-0.07267984, -0.14680937, -0.07477766, -0.22907323,  0.22092994,\n",
       "        -0.28268857,  0.06015426,  0.02916117, -0.00247341, -0.00374694,\n",
       "         0.15536174, -0.09997073,  0.18334552,  0.09008629, -0.04785111,\n",
       "         0.01686186, -0.03044338, -0.01848157,  0.06127156,  0.02819088,\n",
       "         0.03073997, -0.00971097,  0.02887609,  0.08180749, -0.11990454,\n",
       "         0.10923772, -0.12248048, -0.06165891, -0.10581038, -0.01163161,\n",
       "        -0.14738464, -0.04117923,  0.0807656 , -0.04228503,  0.0564674 ,\n",
       "        -0.02563795, -0.03375439,  0.10269113,  0.03402541,  0.00823137,\n",
       "        -0.07607139,  0.17186565, -0.05292756, -0.13339914, -0.16191984,\n",
       "         0.07535038, -0.08942281,  0.01856338,  0.03493817,  0.19582252,\n",
       "         0.1353295 ,  0.0450489 , -0.02279738, -0.03791041,  0.03199534,\n",
       "         0.08506225, -0.07423435, -0.19767618, -0.06958999, -0.05461503,\n",
       "        -0.06573056, -0.04872808, -0.03970398,  0.02433783, -0.00298783,\n",
       "        -0.1794848 ,  0.0265929 , -0.08688266, -0.01718784, -0.02298147,\n",
       "        -0.17926748,  0.10163007, -0.0115714 , -0.00255267,  0.04446851,\n",
       "         0.05431077, -0.04407733,  0.04185294, -0.0488035 , -0.18277024,\n",
       "         0.14242452, -0.08579092,  0.08296059, -0.04837269, -0.10289695,\n",
       "         0.09104763, -0.01842915,  0.08655667, -0.05137561, -0.16330049,\n",
       "        -0.03686853, -0.19756112, -0.19380268,  0.12713123,  0.09922544,\n",
       "        -0.03572438,  0.12441595, -0.04437647, -0.11115018,  0.01844194]),\n",
       " 'working')"
      ]
     },
     "execution_count": 44,
     "metadata": {},
     "output_type": "execute_result"
    }
   ],
   "source": [
    "word_vecs[0], index_to_word[399]"
   ]
  },
  {
   "cell_type": "code",
   "execution_count": 51,
   "metadata": {},
   "outputs": [],
   "source": [
    "from sklearn.manifold import TSNE\n",
    "\n",
    "tsne = TSNE(perplexity=40, n_components=2, init='pca', n_iter=10000)\n",
    "two_d_embeddings = tsne.fit_transform(word_vecs[:num_points])\n",
    "labels = index_to_word[:num_points]"
   ]
  },
  {
   "cell_type": "code",
   "execution_count": 52,
   "metadata": {},
   "outputs": [
    {
     "data": {
      "image/png": "[encoded data removed]",
      "text/plain": [
       "<Figure size 1440x1440 with 1 Axes>"
      ]
     },
     "metadata": {},
     "output_type": "display_data"
    }
   ],
   "source": [
    "from matplotlib import pylab\n",
    "%matplotlib inline\n",
    "\n",
    "def plot(embeddings, labels):\n",
    "    pylab.figure(figsize=(20,20))\n",
    "    for i, label in enumerate(labels):\n",
    "        x, y = embeddings[i,:]\n",
    "        pylab.scatter(x, y)\n",
    "        pylab.annotate(label, xy=(x, y), xytext=(5, 2), textcoords='offset points',\n",
    "                       ha='right', va='bottom')\n",
    "    pylab.show()\n",
    "\n",
    "plot(two_d_embeddings, labels)"
   ]
  },
  {
   "cell_type": "markdown",
   "metadata": {},
   "source": [
    "## convert sentence to features using word2vec"
   ]
  },
  {
   "cell_type": "code",
   "execution_count": 77,
   "metadata": {},
   "outputs": [],
   "source": [
    "vector_file = 'vectors.txt'\n",
    "with open(vector_file, 'r') as csvinfile:\n",
    "    word2vec = dict()\n",
    "    csv_reader = csv.reader(csvinfile, delimiter=' ')\n",
    "    for row in csv_reader:\n",
    "        word2vec[row[0]] = row[1:101]\n",
    "        "
   ]
  },
  {
   "cell_type": "code",
   "execution_count": 101,
   "metadata": {},
   "outputs": [],
   "source": [
    "def add_word2vec_instance(row):\n",
    "    cur_row = []\n",
    "    vec = np.zeros(100)\n",
    "    cur_row.extend(nltk.word_tokenize(row[1].lower()))\n",
    "    cur_row.extend(nltk.word_tokenize(row[2].lower()))\n",
    "    sentence_len = 1\n",
    "    for word in cur_row:\n",
    "        if word in word2vec:\n",
    "            vec += np.array(word2vec[word], dtype=np.float32)\n",
    "            sentence_len += 1    \n",
    "    return vec/sentence_len"
   ]
  },
  {
   "cell_type": "code",
   "execution_count": 102,
   "metadata": {},
   "outputs": [],
   "source": [
    "def convert_sentence_to_vector(input_file, output_file):\n",
    "    all_rows = []\n",
    "    with open(input_file, 'r') as csvinfile:\n",
    "        csv_reader = csv.reader(csvinfile, delimiter=',')\n",
    "        for row in csv_reader:\n",
    "            all_rows.append(row)\n",
    "    pool = Pool(processes=multiprocessing.cpu_count())\n",
    "    transformed_rows = pool.map(add_word2vec_instance, all_rows)\n",
    "    pool.close() \n",
    "    pool.join()\n",
    "    \n",
    "    with open(output_file, 'w') as csvoutfile:\n",
    "        csv_writer = csv.writer(csvoutfile, delimiter=',', lineterminator='\\n')\n",
    "        csv_writer.writerows(transformed_rows)"
   ]
  },
  {
   "cell_type": "code",
   "execution_count": null,
   "metadata": {},
   "outputs": [],
   "source": [
    "%%timeit\n",
    "# Preparing the training dataset\n",
    "\n",
    "# Since preprocessing the whole dataset might take a couple of mintutes,\n",
    "#  \n",
    "#  \n",
    "convert_sentence_to_vector('/home/ec2-user/SageMaker/amazon_review_polarity_csv/train.csv', 'polarity_vector.train')\n",
    "convert_sentence_to_vector('/home/ec2-user/SageMaker/amazon_review_polarity_csv/test.csv', 'polarity_vector.validation')\n",
    "       "
   ]
  },
  {
   "cell_type": "code",
   "execution_count": 114,
   "metadata": {},
   "outputs": [
    {
     "name": "stdout",
     "output_type": "stream",
     "text": [
      "3600000 polarity_vector.train\r\n"
     ]
    }
   ],
   "source": [
    "!wc -l polarity_vector.train"
   ]
  },
  {
   "cell_type": "code",
   "execution_count": 117,
   "metadata": {},
   "outputs": [
    {
     "name": "stdout",
     "output_type": "stream",
     "text": [
      "-0.01986848025820976,-0.9525619758682888,-0.6567663959942238,-0.7029325767355257,0.7726962585435357,-1.755823449177876,0.012351055607892746,0.27310572980448256,0.13439852371811867,0.13084629459068353,0.43874440011893245,-0.44157618493773043,0.6891145575358424,0.48157938936898526,-0.3940637894299661,0.38722711202802224,0.11578346108801144,-0.13006307135422734,0.07756642762268352,0.22405431752071478,0.3438883690748277,0.3706046217662651,-0.14619858977760508,0.4599467139084672,-0.6042892898914816,0.7075210591388303,0.06259237496225639,0.08006614866818107,-0.42248387500470463,-0.24475980086284582,-0.8316517649001853,0.19525383531960638,0.39118697917153844,-0.5193348352385815,0.32002225700159403,-0.26659939481421957,-0.08371829160294214,0.41837403296796216,0.12953811831945597,0.23368311969585023,-0.20951307649442621,0.7615195514720886,-0.05736355780255656,-0.2897792880661612,-0.6481230880545322,0.42137311463958993,-0.41427223739582436,-0.01965296953959867,0.2833043704199236,0.6723158687439769,0.5369977990793454,-0.30799771565943956,-0.02682120712517306,-0.06305612926912862,0.6191130862679592,0.3760620198147588,-0.4822277730211702,-0.7216823792821446,-0.557363090473552,-0.21017702279049297,-0.18458533022812632,-0.1477636730103472,-0.049460447043434955,0.2766492813067554,-0.056045395636194664,-0.7075296103152945,0.09139927866500477,-0.2318024619720703,0.3627284287128511,-0.110568929126562,-0.9507308297703952,0.8155610887252531,-0.031268391871911494,-0.05834544455459298,0.2663311297507134,0.19348400203121263,-0.028011228564346947,0.06650927714830221,0.16420013899373453,-0.6760293202647982,0.851569460439604,-0.5654601888666146,0.24680478251430876,-0.13041130139297524,-0.6886463461140561,0.6691799040255678,0.1405508336177919,0.10757906778260719,0.1569333120877313,-0.40601514342652506,0.06886820092277471,-0.8220194823103198,-0.8929527113430722,0.9774247072637081,0.05562291781656271,-0.09188257697103329,0.3949575295325282,-0.026712516539318616,-0.28648045442478604,0.25165422571563095\r\n",
      "0.010651518274450078,-0.9674835419941272,-0.5024856156823313,-0.9449989704661211,1.1257677087455962,-1.76797785346818,0.30224334818469184,0.26312862189359226,0.09681501907278907,-0.1671818251576591,0.70546343942823,-0.7279697027022265,0.9585212144719543,0.31058586611168654,-0.45109971836956114,0.32617183966245855,0.026777995319790998,-0.5492933738948163,0.2113349155796349,0.07777955721765054,0.5560821566801026,-0.17118076543886004,0.10548929842013233,0.8031832336905008,-0.7295345143889481,0.2980439916674821,-0.35592137123370227,-0.2620312938036151,-0.6871975792466469,-0.169378131557748,-0.6997707942324989,-0.007972933681470886,0.6271363285168091,-0.7455912791543974,0.49379258435922413,-0.3484957923778807,-0.12160974730878084,0.6549652306679284,0.2522176667511955,0.23961856878661322,0.11061105872767996,1.0433060574644017,-0.013199282665121949,-0.5102138350221311,-0.7219581908353094,0.10487440827232346,-0.44969018235943226,0.3631282665081463,0.2497100377068767,0.5539062005063554,0.5902017724243397,-0.09981592744588852,-0.04517814719539909,-0.304233647127337,0.36738607117835925,0.22353255300659616,-0.44680205459776773,-0.9256878289271075,-0.30409670040178344,-0.015474662525175174,-0.3313452576128942,-0.26449523951401405,-0.112159464785056,-0.15975386644098558,0.017871111894975294,-0.9401060009313712,0.29704787689349,-0.3053458851415066,0.07307774929400042,-0.07414306757339048,-1.1138850094153072,0.41261562439700905,0.09665297771329587,-0.35685235278610633,0.35696997008954157,0.0782321463954055,0.24686264313476267,0.23063939750053972,0.15184839173408998,-1.164436323005917,0.9406517093544299,-0.8145182495497448,0.06071921382187251,-0.07551007514011185,-0.6037071966829727,0.6551736520168389,-0.07200597922475833,0.2181847056391526,-0.1369026125988589,-0.607756579751676,-0.14166315511431335,-0.8077846258738131,-1.2339592611083303,0.7879087203094419,0.20041974857976697,-0.36489111561117304,0.7568040824020809,0.26852370108003326,-0.3024542358229464,0.2671066613446148\r\n",
      "-0.17787108534472698,-1.026890084318461,-0.3662866827285623,-0.8080338362549426,1.030785360425618,-1.4745809233672222,0.14750640164852513,0.43981939373951495,0.1326062014985899,-0.0827120091586796,0.7795258144767064,-0.3551043047749015,0.798426646716106,0.29235687184903875,-0.5736333888851292,0.17166700333889043,-0.1635587687997483,-0.32338004597456926,0.3499557822942734,0.15371180434497247,0.42296533230460764,-0.03413457859608327,0.03468216338082107,0.5302990190554642,-0.7841849423921812,0.44650354439982715,-0.4001488520341538,0.006469345402828655,-0.5328223147380357,-0.2709716327563622,-0.5713227225634955,0.32571890124160313,0.18261006973706972,-0.6697244542124479,0.5496240408963854,-0.21872957906922938,-0.05533077352917435,0.5466266602786801,0.18861218150170023,0.37356837115811636,-0.20990728887711993,1.0420607340389065,0.1167306244367537,-0.3905211555480853,-0.5967026978343586,0.16461684562335288,-0.5359944776105492,0.002905977999803072,-0.005402678519672488,0.7567725488511117,0.5038356590952423,-0.19480238563340643,-0.09848151764375453,-0.0990383396263564,0.49397225349401097,0.044157862914899676,-0.5557240406600816,-0.6767484490001886,-0.5394320319759549,-0.2707959523840998,-0.07602227032213524,-0.1718334865218364,-0.15861300848169912,0.17736635707110537,0.04712690358044383,-0.8270910593756238,0.16567747582506492,-0.3712961798409428,0.3197789314428564,-0.320421038669829,-0.657428331774376,0.6937435325235128,0.20372943676175168,-0.37812067918849657,0.14968743875206258,0.32075406495273484,0.002910355719165032,0.027023476311323805,0.14974526401539767,-0.8670839827438319,0.7417261080985588,-0.5771632567337304,0.1164576787420589,-0.4656317124044904,-0.7838101645480402,0.7395661434864406,0.22175470013055743,0.1819066550663632,0.058829492952975425,-0.49514746334207077,-0.15729255953468152,-0.9550321131990933,-1.0906754497739468,0.7563117069440969,0.34614146410585933,-0.2609264154611907,0.5048093744524702,0.343746342502465,-0.047537879590292154,0.3966537477066798\r\n",
      "-0.32108876881776033,-0.8534294428562539,-0.30199947924249704,-0.8741769985209599,0.69166345110646,-1.3154184894015393,0.11846788473151348,0.6576855051296728,0.1085783472560622,0.23812295564760763,0.811917558422795,-0.01727970512928786,0.5567179051676282,0.3061779866891879,-0.5012072360901921,-0.038623062714382456,-0.32809919191317427,-0.20219585255340294,0.6899588250986266,0.20742047869910796,0.3209287426468951,0.09009703708191713,0.21883986283921533,0.5651065140100265,-0.6662491903536849,0.44657260499618673,-0.19270921822775294,-0.054047377448942925,-0.45677177897757953,-0.2989206548642229,-0.8771985719752222,0.38765707053244114,0.13520874676329117,-0.3671206771499581,0.43582962825894356,-0.039251610498737405,-0.1452992817317998,0.3416531081414885,0.18482359677070268,0.3885063138548975,-0.406422024509973,1.0721703779297294,0.008272649589236136,-0.5792600033873762,-0.654724585816816,0.14378187157282674,-0.5270299214455817,-0.04993249539423872,0.17432744181542484,0.8772953230335757,0.776458658484949,0.005037481379177835,-0.17326510784871602,-0.1371695939037535,0.53550288081859,-0.20439023937064188,-0.5127503120961289,-0.7016382061220982,-0.6560019701788271,-0.2110211543738842,0.05209235450666812,-0.07998071444324321,-0.08851817813184526,0.3476627202083667,-0.061802497368167945,-0.48250552913932887,-0.07485424837580433,-0.20581354910887226,0.22722175725632243,-0.3085429099974809,-0.6301847811926294,0.8386757930947675,0.35013176326627016,-0.3983797489768929,-0.1038491558973436,0.3518650831723655,-0.29000592125510727,0.017812723407728805,0.09359401272678816,-0.8525754839595822,0.6976533223357465,-0.7414641170934947,0.21573671398649888,-0.5161887187200288,-0.7976711859581647,0.6497208716830721,0.17708619773663856,0.3310904914858165,0.11429631515509553,-0.17267395467669874,-0.027239781673307772,-0.9259514086638336,-0.8306589064084822,0.7262185249339651,0.30414442479334497,-0.18667756142439665,0.4933173128852138,0.148684285003347,-0.10506577343783445,0.15662427024605374\r\n",
      "-0.024704841148351954,-1.0630702281100937,-0.44213680318931,-1.0193801899658186,0.7641150978367741,-1.6158000920403088,0.13300375613410062,0.43794537991259214,0.11354361634666675,-0.1682015927399674,0.7486096342163874,-0.42716682650079235,0.6760364945751623,0.14124065768909336,-0.5277885621191638,0.14307239411450992,-0.207649333654929,-0.4178510144761999,0.0988170460005787,0.22919126993445593,0.43780307203670527,0.02934308202119074,0.014015643834571623,0.14141140470855704,-0.6037166841245457,0.48907444431124447,-0.061245101138461974,-0.20383686627583386,-0.48993272563686296,-0.20833461414848534,-0.6758391009034398,0.16843967684588143,0.23792454716967087,-0.5396607422278584,0.3219786358945002,-0.4702485760273499,0.04588495234950123,0.49972387354507625,0.040222160413722015,0.22850030718292935,-0.40671462913818446,1.1941475396819203,0.09040442387634348,-0.2768468880551545,-0.7291177463865726,0.44583130761040984,-0.5586263797067489,-0.002472314739895758,0.08615587996405975,0.9021231085410185,0.49582083957600537,-0.10838065419354798,-0.019459059879740823,-0.20170061094860467,0.5503052203593967,0.15860900495236166,-0.5929473962756657,-0.6598172649810804,-0.5868000944327807,-0.4245591122204455,0.007245909170221503,-0.25359597541914086,-0.18167162796256142,-0.061072690429810055,-0.25327440774259724,-0.7879634397887738,0.11992731028906653,-0.3494598980335884,0.25913841655112313,-0.31160396259826406,-0.599571415945609,0.7657204533048044,0.31616900883893545,-0.5054774579513713,0.08437602967459047,0.39071634699042157,0.020017902114402467,-0.152093598862814,0.10279200572376879,-0.8491912423937678,0.8833440719955714,-0.4380237256202882,0.35450167685342415,-0.3780422982690142,-0.7829053262444474,0.7163961178679715,0.14429971004322728,0.18035062721051345,0.1462590284558518,-0.3625114765105264,-0.33973976430074077,-0.7455337068205264,-0.9745290168151955,0.8228930979749518,0.3856252502284457,-0.11124671790226598,0.36577512344745833,0.1380659970933589,-0.0888343454190643,0.2813320184979483\r\n",
      "0.013854842164559279,-1.071514937194332,-0.19033814540612484,-0.9575479241857628,0.9762189423743479,-1.5090807219542017,0.10198356876216695,0.21868192848420429,0.09723733508301352,-0.03368385297854146,0.771000063431611,-0.42791246205099864,0.6662516207294817,0.12851245526759747,-0.5310494429180901,-0.05706277208522654,-0.09784946631093672,-0.36016873649494374,0.4059463355043334,0.08221298320554225,0.3335496626270121,0.08695162678817789,0.11400330064450195,0.5555037075965972,-0.7624604251559177,0.421190308228492,-0.4808236524284243,-0.2615413344771919,-0.45718672771904684,-0.23292105661811094,-0.8153169977166383,0.2539440057865026,-0.011215062031221247,-0.4744149691196616,0.4687499302456122,-0.3769849306585903,-0.10970898354035652,0.641680408626081,0.13597329528611934,0.13790659584149628,-0.19304410154055693,0.9207423112758095,-0.11101877202508514,-0.4567319764797492,-0.6642942555739494,0.2094695873999087,-0.46605524563782674,0.04336209127869078,-0.008944056369085423,0.7802930148729698,0.5728366723908724,-0.0581195448012186,0.06813582665883675,-0.10513339348940436,0.6789044252580065,-0.04826653130006737,-0.5354180056099852,-0.8242015414731856,-0.5088235152115722,-0.19649729555058656,0.06181529375674304,-0.08694117124231454,-0.23156601271151514,0.2592180103375883,-0.048163932212767845,-0.6299709849572646,0.0030613922887665784,-0.5397268477618181,0.17423965624104182,-0.4041894764003684,-0.8421977551867991,0.6502222833028454,0.23107205126657634,-0.4892076940114002,-0.09398228473805204,0.27118100787472527,-0.06927913640385973,0.048774890311642324,-0.02094178419409621,-0.8357764304821899,0.7753872592559832,-0.5585626747548401,0.17160720093186924,-0.31216727631601565,-0.731773167363407,0.7153493680081171,0.10277446575775118,0.33362190438222566,0.17407717980712117,-0.5015459230788677,-0.2589435268104255,-0.7703645072841158,-1.0200027584761917,0.8687914669803695,0.489019483573244,-0.2528964817345499,0.49238313638610753,0.17031847527473717,-0.27838573987110554,0.3539516656341667\r\n",
      "-0.08105414243237603,-0.7300758232013322,-0.4912588123309736,-0.9726907379060451,0.8401772666409324,-1.5528345241244617,0.27475898390513886,0.46508982141399646,0.17700271473620974,-0.31280658782149356,0.3478933730983131,-0.6306681667254972,0.9126535147051549,0.28878808842030895,-0.2756307062254997,0.05785729578651842,0.18579101628745862,-0.46974922649263007,0.3478432502361968,0.29053446233627345,0.43436848343948703,-0.14413427491672337,0.1349977112951733,0.4183723224227184,-0.8404496515480181,0.39132252903211684,-0.3396220367313141,-0.4339891876055238,-0.7972109447499471,-0.10697780795938645,-0.866934477376552,0.04543891073470669,0.4729088401654735,-0.5802313289023004,0.38545796443663893,-0.3854166835524319,0.076772282346307,0.5368462821185987,0.292550768733712,0.19965153559765203,0.11465276010511886,0.9822433514165736,-0.13643692492596096,-0.6667252649058355,-0.7058275104167738,0.29273386153259445,-0.5545208576756219,0.06722851298261612,0.18815620494119467,0.9596426216601339,0.4963806978415787,-0.09131099871731185,-0.23082017769324703,-0.12404874787621555,0.2180492119708409,0.12516834008108293,-0.29853427213051226,-0.9593163934048443,-0.06943759215175219,-0.20454685093101857,-0.18756031874190307,-0.43031571408001973,0.012108484518692075,-0.16733979113078454,0.06267373682792476,-0.9350760475887606,0.04247167094477585,-0.49113810987771667,-0.14376357046421617,-0.3232226492844001,-0.9409976778080731,0.31573971917497967,0.05779541665799029,-0.32725695823319256,0.26359903825435876,0.5210935578770226,0.000894312746822834,0.13011573319367709,-0.23408687663530664,-1.0771217343086998,0.6624637677533818,-0.5364367640812859,0.24375634782371067,-0.48723950683294487,-0.5497683623051715,0.6808966547389337,0.08730618168954693,0.298209336110934,-0.05971041406016974,-0.27567829583339126,-0.3536481166568895,-0.5538348456681151,-1.0710563293070576,0.7548477645337005,0.2691026071164136,-0.22132903870910273,0.7148160172066473,0.3315585888367856,-0.4344731552215914,0.4619302699741508\r\n",
      "-0.23140775670225805,-0.5730033607628101,-0.30551732536086923,-0.8329284204086528,1.0553208647502794,-1.8598467528055875,0.2477468674739775,0.7917420043108555,0.4608888243062374,-0.13737044354868877,0.5694194717380481,-0.4174328405593132,0.7602169517682403,0.18761446049166286,-0.323353199288249,0.21985654768526045,-0.015633832444397047,-0.14061390799589646,0.4912985749065112,0.34087599056144047,0.2794713796490533,0.08009447517175959,0.5235767778423097,0.5743400130826884,-0.7658075259552679,0.6522497450216458,-0.3241947257461456,-0.10401896864939959,-0.705298178566572,-0.11653007669613147,-1.055352640306402,-0.048733880345383264,0.8541125570798022,-0.25793468270801073,0.2549127328600615,-0.21364384558465746,-0.06965640384672034,0.45922035981505976,0.08971394369235405,-0.025269593311171245,-0.0843964729967535,1.1364798257963207,0.10442015334454358,-0.6065938529900761,-0.7225283538667947,0.27897876965152657,-0.633765801285895,0.2482114598338102,0.5371271432974399,1.2580420496350186,0.8702554231843888,-0.24072975436082253,-0.3680492317001534,-0.42110159470994246,0.29550608422639024,0.1977855739557845,-0.5176038104865668,-0.8330093234236169,-0.043192028521727294,-0.18283249106224325,-0.1349572651565839,-0.28230342018999094,-0.07872038678083028,-0.4248868060640545,0.17786755128644216,-0.8925169936707641,0.18247552850516513,-0.4579733395889306,-0.3229265451096954,-0.24112628124511012,-0.9918075261844529,0.7664552625173178,0.15833531618595886,-0.5301798256034524,0.48248940012139135,0.4632733597412196,-0.3037294750062064,0.28910600922556007,0.034288581667674914,-1.2387208257061548,0.7871850917735694,-0.770926577803225,0.11574013851996925,-0.5787802201846981,-0.5792551450112946,0.48112557231424713,-0.34917909618562615,0.16471899297629666,-0.16678181855788088,-0.4110956743486926,-0.1530368230663813,-0.8368233700848033,-1.2134173488260334,0.7319458849632587,0.03810243904749807,-0.0794265499800189,0.6441314287929454,0.24091872874981698,-0.4498158121147217,0.39979131165819126\r\n",
      "-0.149603036298227,-0.6774683651407208,-0.5450671268627048,-0.8285103033129868,1.1628462338605814,-1.7260955743557584,0.2498250854556012,0.9524868902177509,0.34861755998294175,-0.21118424529316876,0.6915554614259606,-0.5801886745060967,0.7730562434061966,0.03987105846800636,-0.2519357046194836,0.27352040056633736,-0.059182945218563605,-0.20445218287507252,0.5803561033186527,0.3545155436154949,0.2488472985878455,0.0971799750639274,0.36730303727420033,0.5095505868991326,-0.7859827027516028,0.5734790791716196,-0.42799386159574565,-0.2987291481576662,-0.7155699523380109,-0.04463183431704817,-0.9250452246813647,0.1108491499207716,0.6278160485826367,-0.5461113716648743,0.23153373458941953,-0.21319883247524235,0.03833153214206738,0.4394478807514286,0.10942602261027272,0.12505086046536412,-0.02000279969379174,1.0360889455913442,0.1512121587530174,-0.5752538483892774,-0.6439471530802219,0.12904609906676728,-0.5578266231057778,0.1863787348786023,0.2953834907209451,1.0946732689585306,0.6929673305589014,-0.005786990664437809,-0.4154557713999751,-0.449894310536679,0.2916738958534809,0.11248493176448134,-0.5992791166537301,-0.7584329781213165,-0.12676234197168224,-0.37436120417298735,-0.21619056880605958,-0.4964013620551708,-0.007608086101512993,-0.3626264548670929,0.2769070821855448,-1.0035487665934901,0.2347781632628201,-0.4587280436282961,-0.1463029363101958,-0.34046813732927944,-1.019830464142317,0.48473664472060923,0.12696445176163607,-0.4974699910829025,0.5549990915882904,0.48260361688835873,-0.21270659757135188,0.4059972100091719,-0.12049372378835636,-1.0447660464694541,0.7108629589449136,-0.8200703497102435,0.15185108220418997,-0.414138345505251,-0.4952918928677002,0.4548908504698656,-0.3350071661932542,0.17080787335217526,-0.05566626449272168,-0.29090432018305346,-0.2975315670853695,-0.7271518648264155,-1.0615687652087185,0.852849253824195,0.20465328606191727,0.02658538639017966,0.7211487824014858,0.27861831395730247,-0.37648789325844395,0.497116545058655\r\n",
      "-0.2698192112147808,-0.4294192120965038,-0.3939225876038628,-1.3061663115762971,0.8893512308730611,-1.971051561832428,0.2694994612729975,0.6498157700257642,0.13042028237666403,-0.18855502143435712,0.7258408807218075,-0.7916421848748412,0.9324799318930932,0.11817826027483014,-0.2604399553899254,0.3703928253253772,-0.06826328104361892,-0.329763985691326,0.18955995460440006,0.5172905908631427,0.46224796319646494,-0.12607526419617768,0.0027522465895994433,0.2453279706183821,-0.9578135684132576,0.5798036033021552,-0.5112907162784333,-0.5400923577802522,-0.725698373333684,-0.23557228914328984,-1.1773550859519413,0.06743390059896878,0.5207465967429535,-0.41239289763782705,0.26944798986826624,-0.19722339383193424,-0.10340212950749057,0.3261572612183435,0.20714430355333857,0.12225725855013089,-0.10413800697507603,1.0238042754786356,0.020042381462241923,-0.5974550721900803,-0.6051911116444639,0.3890346120710352,-0.1922525960419859,0.04771488974136966,0.1546761706471443,1.1331240390793287,0.9221665582486561,-0.3111212928380285,-0.5286715694304024,-0.3440484644046852,0.4997328459576238,0.12161425812436001,-0.396689668896475,-0.8435492824496967,0.23594185135194234,-0.3581483856874651,-0.3139089649277074,-0.6325093662366271,-0.0929449958227841,-0.3848159061478717,0.10114420226642064,-1.132136721270425,-0.007111575986657824,-0.2565881956900869,-0.23687928593052285,-0.04519733269366303,-1.0948150133447987,0.62455743764128,0.0031850839033722876,-0.17532710691115685,0.6108911458935057,0.20815491335732597,-0.12976616679557731,0.4127645685736622,-0.23194732522325856,-1.1545471010995763,0.750370471565319,-0.8474421489451612,0.42582731054031425,-0.36322857247931617,-0.8178834744862148,0.5408246567206724,-0.31741894440991536,0.25136616418936425,-0.17812360196174787,-0.5398387927029814,-0.1985261684017522,-0.6490645463977541,-1.1948688955179283,1.2083747170599444,0.3331679248916251,0.10137216988950967,1.0838824412652424,0.41013085625267454,-0.5877313572381224,0.10632131262017148\r\n"
     ]
    }
   ],
   "source": [
    "!head polarity_vector.train"
   ]
  },
  {
   "cell_type": "markdown",
   "metadata": {},
   "source": [
    "### save to s3"
   ]
  },
  {
   "cell_type": "code",
   "execution_count": 115,
   "metadata": {},
   "outputs": [
    {
     "name": "stdout",
     "output_type": "stream",
     "text": [
      "CPU times: user 1min 3s, sys: 17 s, total: 1min 20s\n",
      "Wall time: 39 s\n"
     ]
    }
   ],
   "source": [
    "%%time\n",
    "\n",
    "train_channel = prefix + '/train'\n",
    "validation_channel = prefix + '/validation'\n",
    "\n",
    "sess.upload_data(path='polarity_vector.train', bucket=bucket, key_prefix=train_channel)\n",
    "sess.upload_data(path='polarity_vector.validation', bucket=bucket, key_prefix=validation_channel)\n",
    "\n",
    "s3_train_data = 's3://{}/{}'.format(bucket, train_channel)\n",
    "s3_validation_data = 's3://{}/{}'.format(bucket, validation_channel)\n",
    "s3_output_location = 's3://{}/{}/output'.format(bucket, prefix)"
   ]
  },
  {
   "cell_type": "markdown",
   "metadata": {},
   "source": [
    "## K mean"
   ]
  },
  {
   "cell_type": "code",
   "execution_count": null,
   "metadata": {},
   "outputs": [],
   "source": [
    "# https://github.com/awslabs/amazon-sagemaker-examples/blob/master/introduction_to_applying_machine_learning/US-census_population_segmentation_PCA_Kmeans/sagemaker-countycensusclustering.ipynb"
   ]
  },
  {
   "cell_type": "code",
   "execution_count": 123,
   "metadata": {},
   "outputs": [
    {
     "name": "stderr",
     "output_type": "stream",
     "text": [
      "INFO:sagemaker:Created S3 bucket: sagemaker-us-east-1-023375022819\n"
     ]
    }
   ],
   "source": [
    "from sagemaker import KMeans\n",
    "\n",
    "num_clusters = 2\n",
    "kmeans = KMeans(role=role,\n",
    "                train_instance_count=1,\n",
    "                train_instance_type='ml.c4.xlarge',\n",
    "                output_path=s3_output_location,              \n",
    "                k=num_clusters)"
   ]
  },
  {
   "cell_type": "code",
   "execution_count": 134,
   "metadata": {},
   "outputs": [],
   "source": [
    "train_data = pd.read_csv('polarity_vector.train', header=None).values.astype('float32')  # load training data vectors"
   ]
  },
  {
   "cell_type": "code",
   "execution_count": 130,
   "metadata": {},
   "outputs": [
    {
     "data": {
      "text/html": [
       "<div>\n",
       "<style scoped>\n",
       "    .dataframe tbody tr th:only-of-type {\n",
       "        vertical-align: middle;\n",
       "    }\n",
       "\n",
       "    .dataframe tbody tr th {\n",
       "        vertical-align: top;\n",
       "    }\n",
       "\n",
       "    .dataframe thead th {\n",
       "        text-align: right;\n",
       "    }\n",
       "</style>\n",
       "<table border=\"1\" class=\"dataframe\">\n",
       "  <thead>\n",
       "    <tr style=\"text-align: right;\">\n",
       "      <th></th>\n",
       "      <th>0</th>\n",
       "      <th>1</th>\n",
       "      <th>2</th>\n",
       "      <th>3</th>\n",
       "      <th>4</th>\n",
       "      <th>5</th>\n",
       "      <th>6</th>\n",
       "      <th>7</th>\n",
       "      <th>8</th>\n",
       "      <th>9</th>\n",
       "      <th>...</th>\n",
       "      <th>90</th>\n",
       "      <th>91</th>\n",
       "      <th>92</th>\n",
       "      <th>93</th>\n",
       "      <th>94</th>\n",
       "      <th>95</th>\n",
       "      <th>96</th>\n",
       "      <th>97</th>\n",
       "      <th>98</th>\n",
       "      <th>99</th>\n",
       "    </tr>\n",
       "  </thead>\n",
       "  <tbody>\n",
       "    <tr>\n",
       "      <th>0</th>\n",
       "      <td>-0.019868</td>\n",
       "      <td>-0.952562</td>\n",
       "      <td>-0.656766</td>\n",
       "      <td>-0.702933</td>\n",
       "      <td>0.772696</td>\n",
       "      <td>-1.755823</td>\n",
       "      <td>0.012351</td>\n",
       "      <td>0.273106</td>\n",
       "      <td>0.134399</td>\n",
       "      <td>0.130846</td>\n",
       "      <td>...</td>\n",
       "      <td>0.068868</td>\n",
       "      <td>-0.822019</td>\n",
       "      <td>-0.892953</td>\n",
       "      <td>0.977425</td>\n",
       "      <td>0.055623</td>\n",
       "      <td>-0.091883</td>\n",
       "      <td>0.394958</td>\n",
       "      <td>-0.026713</td>\n",
       "      <td>-0.286480</td>\n",
       "      <td>0.251654</td>\n",
       "    </tr>\n",
       "    <tr>\n",
       "      <th>1</th>\n",
       "      <td>0.010652</td>\n",
       "      <td>-0.967484</td>\n",
       "      <td>-0.502486</td>\n",
       "      <td>-0.944999</td>\n",
       "      <td>1.125768</td>\n",
       "      <td>-1.767978</td>\n",
       "      <td>0.302243</td>\n",
       "      <td>0.263129</td>\n",
       "      <td>0.096815</td>\n",
       "      <td>-0.167182</td>\n",
       "      <td>...</td>\n",
       "      <td>-0.141663</td>\n",
       "      <td>-0.807785</td>\n",
       "      <td>-1.233959</td>\n",
       "      <td>0.787909</td>\n",
       "      <td>0.200420</td>\n",
       "      <td>-0.364891</td>\n",
       "      <td>0.756804</td>\n",
       "      <td>0.268524</td>\n",
       "      <td>-0.302454</td>\n",
       "      <td>0.267107</td>\n",
       "    </tr>\n",
       "    <tr>\n",
       "      <th>2</th>\n",
       "      <td>-0.177871</td>\n",
       "      <td>-1.026890</td>\n",
       "      <td>-0.366287</td>\n",
       "      <td>-0.808034</td>\n",
       "      <td>1.030785</td>\n",
       "      <td>-1.474581</td>\n",
       "      <td>0.147506</td>\n",
       "      <td>0.439819</td>\n",
       "      <td>0.132606</td>\n",
       "      <td>-0.082712</td>\n",
       "      <td>...</td>\n",
       "      <td>-0.157293</td>\n",
       "      <td>-0.955032</td>\n",
       "      <td>-1.090675</td>\n",
       "      <td>0.756312</td>\n",
       "      <td>0.346141</td>\n",
       "      <td>-0.260926</td>\n",
       "      <td>0.504809</td>\n",
       "      <td>0.343746</td>\n",
       "      <td>-0.047538</td>\n",
       "      <td>0.396654</td>\n",
       "    </tr>\n",
       "    <tr>\n",
       "      <th>3</th>\n",
       "      <td>-0.321089</td>\n",
       "      <td>-0.853429</td>\n",
       "      <td>-0.301999</td>\n",
       "      <td>-0.874177</td>\n",
       "      <td>0.691663</td>\n",
       "      <td>-1.315418</td>\n",
       "      <td>0.118468</td>\n",
       "      <td>0.657686</td>\n",
       "      <td>0.108578</td>\n",
       "      <td>0.238123</td>\n",
       "      <td>...</td>\n",
       "      <td>-0.027240</td>\n",
       "      <td>-0.925951</td>\n",
       "      <td>-0.830659</td>\n",
       "      <td>0.726219</td>\n",
       "      <td>0.304144</td>\n",
       "      <td>-0.186678</td>\n",
       "      <td>0.493317</td>\n",
       "      <td>0.148684</td>\n",
       "      <td>-0.105066</td>\n",
       "      <td>0.156624</td>\n",
       "    </tr>\n",
       "    <tr>\n",
       "      <th>4</th>\n",
       "      <td>-0.024705</td>\n",
       "      <td>-1.063070</td>\n",
       "      <td>-0.442137</td>\n",
       "      <td>-1.019380</td>\n",
       "      <td>0.764115</td>\n",
       "      <td>-1.615800</td>\n",
       "      <td>0.133004</td>\n",
       "      <td>0.437945</td>\n",
       "      <td>0.113544</td>\n",
       "      <td>-0.168202</td>\n",
       "      <td>...</td>\n",
       "      <td>-0.339740</td>\n",
       "      <td>-0.745534</td>\n",
       "      <td>-0.974529</td>\n",
       "      <td>0.822893</td>\n",
       "      <td>0.385625</td>\n",
       "      <td>-0.111247</td>\n",
       "      <td>0.365775</td>\n",
       "      <td>0.138066</td>\n",
       "      <td>-0.088834</td>\n",
       "      <td>0.281332</td>\n",
       "    </tr>\n",
       "  </tbody>\n",
       "</table>\n",
       "<p>5 rows × 100 columns</p>\n",
       "</div>"
      ],
      "text/plain": [
       "         0         1         2         3         4         5         6   \\\n",
       "0 -0.019868 -0.952562 -0.656766 -0.702933  0.772696 -1.755823  0.012351   \n",
       "1  0.010652 -0.967484 -0.502486 -0.944999  1.125768 -1.767978  0.302243   \n",
       "2 -0.177871 -1.026890 -0.366287 -0.808034  1.030785 -1.474581  0.147506   \n",
       "3 -0.321089 -0.853429 -0.301999 -0.874177  0.691663 -1.315418  0.118468   \n",
       "4 -0.024705 -1.063070 -0.442137 -1.019380  0.764115 -1.615800  0.133004   \n",
       "\n",
       "         7         8         9     ...           90        91        92  \\\n",
       "0  0.273106  0.134399  0.130846    ...     0.068868 -0.822019 -0.892953   \n",
       "1  0.263129  0.096815 -0.167182    ...    -0.141663 -0.807785 -1.233959   \n",
       "2  0.439819  0.132606 -0.082712    ...    -0.157293 -0.955032 -1.090675   \n",
       "3  0.657686  0.108578  0.238123    ...    -0.027240 -0.925951 -0.830659   \n",
       "4  0.437945  0.113544 -0.168202    ...    -0.339740 -0.745534 -0.974529   \n",
       "\n",
       "         93        94        95        96        97        98        99  \n",
       "0  0.977425  0.055623 -0.091883  0.394958 -0.026713 -0.286480  0.251654  \n",
       "1  0.787909  0.200420 -0.364891  0.756804  0.268524 -0.302454  0.267107  \n",
       "2  0.756312  0.346141 -0.260926  0.504809  0.343746 -0.047538  0.396654  \n",
       "3  0.726219  0.304144 -0.186678  0.493317  0.148684 -0.105066  0.156624  \n",
       "4  0.822893  0.385625 -0.111247  0.365775  0.138066 -0.088834  0.281332  \n",
       "\n",
       "[5 rows x 100 columns]"
      ]
     },
     "execution_count": 130,
     "metadata": {},
     "output_type": "execute_result"
    }
   ],
   "source": [
    "train_v.head()"
   ]
  },
  {
   "cell_type": "code",
   "execution_count": 131,
   "metadata": {},
   "outputs": [],
   "source": [
    "#train_data = train_v.values.astype('float32')\n"
   ]
  },
  {
   "cell_type": "code",
   "execution_count": 135,
   "metadata": {},
   "outputs": [
    {
     "name": "stderr",
     "output_type": "stream",
     "text": [
      "INFO:sagemaker:Creating training-job with name: kmeans-2019-03-14-14-07-37-442\n"
     ]
    },
    {
     "name": "stdout",
     "output_type": "stream",
     "text": [
      "2019-03-14 14:07:37 Starting - Starting the training job...\n",
      "2019-03-14 14:07:39 Starting - Launching requested ML instances......\n",
      "2019-03-14 14:08:49 Starting - Preparing the instances for training......\n",
      "2019-03-14 14:10:07 Downloading - Downloading input data...\n",
      "2019-03-14 14:10:38 Training - Training image download completed. Training in progress..\n",
      "\u001b[31mDocker entrypoint called with argument(s): train\u001b[0m\n",
      "\u001b[31m[03/14/2019 14:10:40 INFO 140223307892544] Reading default configuration from /opt/amazon/lib/python2.7/site-packages/algorithm/resources/default-input.json: {u'_enable_profiler': u'false', u'_tuning_objective_metric': u'', u'_num_gpus': u'auto', u'local_lloyd_num_trials': u'auto', u'_log_level': u'info', u'_kvstore': u'auto', u'local_lloyd_init_method': u'kmeans++', u'force_dense': u'true', u'epochs': u'1', u'init_method': u'random', u'local_lloyd_tol': u'0.0001', u'local_lloyd_max_iter': u'300', u'_disable_wait_to_read': u'false', u'extra_center_factor': u'auto', u'eval_metrics': u'[\"msd\"]', u'_num_kv_servers': u'1', u'mini_batch_size': u'5000', u'half_life_time_size': u'0', u'_num_slices': u'1'}\u001b[0m\n",
      "\u001b[31m[03/14/2019 14:10:40 INFO 140223307892544] Reading provided configuration from /opt/ml/input/config/hyperparameters.json: {u'feature_dim': u'100', u'k': u'2', u'force_dense': u'True'}\u001b[0m\n",
      "\u001b[31m[03/14/2019 14:10:40 INFO 140223307892544] Final configuration: {u'_tuning_objective_metric': u'', u'extra_center_factor': u'auto', u'local_lloyd_init_method': u'kmeans++', u'force_dense': u'True', u'epochs': u'1', u'feature_dim': u'100', u'local_lloyd_tol': u'0.0001', u'_disable_wait_to_read': u'false', u'eval_metrics': u'[\"msd\"]', u'_num_kv_servers': u'1', u'mini_batch_size': u'5000', u'_enable_profiler': u'false', u'_num_gpus': u'auto', u'local_lloyd_num_trials': u'auto', u'_log_level': u'info', u'init_method': u'random', u'half_life_time_size': u'0', u'local_lloyd_max_iter': u'300', u'_kvstore': u'auto', u'k': u'2', u'_num_slices': u'1'}\u001b[0m\n",
      "\u001b[31m[03/14/2019 14:10:40 WARNING 140223307892544] Loggers have already been setup.\u001b[0m\n",
      "\u001b[31mProcess 1 is a worker.\u001b[0m\n",
      "\u001b[31m[03/14/2019 14:10:40 INFO 140223307892544] Using default worker.\u001b[0m\n",
      "\u001b[31m[03/14/2019 14:10:40 INFO 140223307892544] Loaded iterator creator application/x-recordio-protobuf for content type ('application/x-recordio-protobuf', '1.0')\u001b[0m\n",
      "\u001b[31m[03/14/2019 14:10:40 INFO 140223307892544] Create Store: local\u001b[0m\n",
      "\u001b[31m[03/14/2019 14:10:40 INFO 140223307892544] nvidia-smi took: 0.0251770019531 secs to identify 0 gpus\u001b[0m\n",
      "\u001b[31m[03/14/2019 14:10:40 INFO 140223307892544] Number of GPUs being used: 0\u001b[0m\n",
      "\u001b[31m[2019-03-14 14:10:40.435] [tensorio] [info] batch={\"data_pipeline\": \"/opt/ml/input/data/train\", \"num_examples\": 5000, \"features\": [{\"name\": \"values\", \"shape\": [100], \"storage_type\": \"dense\"}]}\u001b[0m\n",
      "\u001b[31m/opt/amazon/lib/python2.7/site-packages/ai_algorithms_sdk/config/config_helper.py:172: DeprecationWarning: deprecated\n",
      "  warnings.warn(\"deprecated\", DeprecationWarning)\u001b[0m\n",
      "\u001b[31m/opt/amazon/lib/python2.7/site-packages/ai_algorithms_sdk/config/config_helper.py:122: DeprecationWarning: deprecated\n",
      "  warnings.warn(\"deprecated\", DeprecationWarning)\u001b[0m\n",
      "\u001b[31m[03/14/2019 14:10:40 INFO 140223307892544] Setting up with params: {u'_tuning_objective_metric': u'', u'extra_center_factor': u'auto', u'local_lloyd_init_method': u'kmeans++', u'force_dense': u'True', u'epochs': u'1', u'feature_dim': u'100', u'local_lloyd_tol': u'0.0001', u'_disable_wait_to_read': u'false', u'eval_metrics': u'[\"msd\"]', u'_num_kv_servers': u'1', u'mini_batch_size': u'5000', u'_enable_profiler': u'false', u'_num_gpus': u'auto', u'local_lloyd_num_trials': u'auto', u'_log_level': u'info', u'init_method': u'random', u'half_life_time_size': u'0', u'local_lloyd_max_iter': u'300', u'_kvstore': u'auto', u'k': u'2', u'_num_slices': u'1'}\u001b[0m\n",
      "\u001b[31m[03/14/2019 14:10:40 INFO 140223307892544] Number of GPUs being used: 0\u001b[0m\n",
      "\u001b[31m[03/14/2019 14:10:40 INFO 140223307892544] number of center slices 1\u001b[0m\n",
      "\u001b[31m#metrics {\"Metrics\": {\"Max Batches Seen Between Resets\": {\"count\": 1, \"max\": 1, \"sum\": 1.0, \"min\": 1}, \"Number of Batches Since Last Reset\": {\"count\": 1, \"max\": 1, \"sum\": 1.0, \"min\": 1}, \"Number of Records Since Last Reset\": {\"count\": 1, \"max\": 5000, \"sum\": 5000.0, \"min\": 5000}, \"Total Batches Seen\": {\"count\": 1, \"max\": 1, \"sum\": 1.0, \"min\": 1}, \"Total Records Seen\": {\"count\": 1, \"max\": 5000, \"sum\": 5000.0, \"min\": 5000}, \"Max Records Seen Between Resets\": {\"count\": 1, \"max\": 5000, \"sum\": 5000.0, \"min\": 5000}, \"Reset Count\": {\"count\": 1, \"max\": 0, \"sum\": 0.0, \"min\": 0}}, \"EndTime\": 1552572640.464508, \"Dimensions\": {\"Host\": \"algo-1\", \"Meta\": \"init_train_data_iter\", \"Operation\": \"training\", \"Algorithm\": \"AWS/KMeansWebscale\"}, \"StartTime\": 1552572640.464451}\n",
      "\u001b[0m\n",
      "\u001b[31m[2019-03-14 14:10:40.468] [tensorio] [info] data_pipeline_stats={\"name\": \"/opt/ml/input/data/train\", \"epoch\": 0, \"duration\": 37, \"num_examples\": 1}\u001b[0m\n",
      "\u001b[31m[03/14/2019 14:10:40 INFO 140223307892544] Iter 10: Short term msd 3.449651. Long term msd 3.614065\u001b[0m\n",
      "\u001b[31m[03/14/2019 14:10:40 INFO 140223307892544] Iter 20: Short term msd 3.301878. Long term msd 3.368127\u001b[0m\n",
      "\u001b[31m[03/14/2019 14:10:40 INFO 140223307892544] Iter 30: Short term msd 3.254444. Long term msd 3.288430\u001b[0m\n",
      "\u001b[31m[03/14/2019 14:10:41 INFO 140223307892544] Iter 40: Short term msd 3.225648. Long term msd 3.253370\u001b[0m\n",
      "\u001b[31m[03/14/2019 14:10:41 INFO 140223307892544] Iter 50: Short term msd 3.293730. Long term msd 3.277571\u001b[0m\n",
      "\u001b[31m[03/14/2019 14:10:41 INFO 140223307892544] Iter 60: Short term msd 3.353582. Long term msd 3.327762\u001b[0m\n",
      "\u001b[31m[03/14/2019 14:10:41 INFO 140223307892544] Iter 70: Short term msd 3.273428. Long term msd 3.291361\u001b[0m\n",
      "\u001b[31m[03/14/2019 14:10:41 INFO 140223307892544] Iter 80: Short term msd 3.265294. Long term msd 3.270458\u001b[0m\n",
      "\u001b[31m[03/14/2019 14:10:41 INFO 140223307892544] Iter 90: Short term msd 3.313627. Long term msd 3.303606\u001b[0m\n",
      "\u001b[31m[03/14/2019 14:10:41 INFO 140223307892544] Iter 100: Short term msd 3.333566. Long term msd 3.319944\u001b[0m\n",
      "\u001b[31m[03/14/2019 14:10:42 INFO 140223307892544] Iter 110: Short term msd 3.305468. Long term msd 3.302783\u001b[0m\n",
      "\u001b[31m[03/14/2019 14:10:42 INFO 140223307892544] Iter 120: Short term msd 3.316336. Long term msd 3.308198\u001b[0m\n",
      "\u001b[31m[03/14/2019 14:10:42 INFO 140223307892544] Iter 130: Short term msd 3.337812. Long term msd 3.327511\u001b[0m\n",
      "\u001b[31m[03/14/2019 14:10:42 INFO 140223307892544] Iter 140: Short term msd 3.258090. Long term msd 3.277235\u001b[0m\n",
      "\u001b[31m[03/14/2019 14:10:43 INFO 140223307892544] Iter 150: Short term msd 3.314511. Long term msd 3.306027\u001b[0m\n",
      "\u001b[31m[03/14/2019 14:10:43 INFO 140223307892544] Iter 160: Short term msd 3.322289. Long term msd 3.318476\u001b[0m\n",
      "\u001b[31m[03/14/2019 14:10:43 INFO 140223307892544] Iter 170: Short term msd 3.327468. Long term msd 3.320886\u001b[0m\n",
      "\u001b[31m[03/14/2019 14:10:43 INFO 140223307892544] Iter 180: Short term msd 3.365487. Long term msd 3.364033\u001b[0m\n",
      "\u001b[31m[03/14/2019 14:10:44 INFO 140223307892544] Iter 190: Short term msd 3.296309. Long term msd 3.314316\u001b[0m\n",
      "\u001b[31m[03/14/2019 14:10:44 INFO 140223307892544] Iter 200: Short term msd 3.294623. Long term msd 3.300309\u001b[0m\n",
      "\u001b[31m[03/14/2019 14:10:44 INFO 140223307892544] Iter 210: Short term msd 3.314423. Long term msd 3.318708\u001b[0m\n",
      "\u001b[31m[03/14/2019 14:10:44 INFO 140223307892544] Iter 220: Short term msd 3.307912. Long term msd 3.313354\u001b[0m\n",
      "\u001b[31m[03/14/2019 14:10:44 INFO 140223307892544] Iter 230: Short term msd 3.343350. Long term msd 3.333393\u001b[0m\n",
      "\u001b[31m[03/14/2019 14:10:45 INFO 140223307892544] Iter 240: Short term msd 3.330450. Long term msd 3.331826\u001b[0m\n",
      "\u001b[31m[03/14/2019 14:10:45 INFO 140223307892544] Iter 250: Short term msd 3.327800. Long term msd 3.326568\u001b[0m\n",
      "\u001b[31m[03/14/2019 14:10:45 INFO 140223307892544] Iter 260: Short term msd 3.296853. Long term msd 3.306796\u001b[0m\n",
      "\u001b[31m[03/14/2019 14:10:45 INFO 140223307892544] Iter 270: Short term msd 3.321956. Long term msd 3.318072\u001b[0m\n",
      "\u001b[31m[03/14/2019 14:10:46 INFO 140223307892544] Iter 280: Short term msd 3.385142. Long term msd 3.371572\u001b[0m\n",
      "\u001b[31m[03/14/2019 14:10:46 INFO 140223307892544] Iter 290: Short term msd 3.359225. Long term msd 3.360500\u001b[0m\n",
      "\u001b[31m[03/14/2019 14:10:46 INFO 140223307892544] Iter 300: Short term msd 3.374821. Long term msd 3.364353\u001b[0m\n",
      "\u001b[31m[03/14/2019 14:10:46 INFO 140223307892544] Iter 310: Short term msd 3.371425. Long term msd 3.366356\u001b[0m\n",
      "\u001b[31m[03/14/2019 14:10:47 INFO 140223307892544] Iter 320: Short term msd 3.377625. Long term msd 3.368067\u001b[0m\n",
      "\u001b[31m[03/14/2019 14:10:47 INFO 140223307892544] Iter 330: Short term msd 3.342651. Long term msd 3.345071\u001b[0m\n",
      "\u001b[31m[03/14/2019 14:10:47 INFO 140223307892544] Iter 340: Short term msd 3.363038. Long term msd 3.366637\u001b[0m\n",
      "\u001b[31m[03/14/2019 14:10:47 INFO 140223307892544] Iter 350: Short term msd 3.383201. Long term msd 3.378842\u001b[0m\n",
      "\u001b[31m[03/14/2019 14:10:47 INFO 140223307892544] Iter 360: Short term msd 3.382715. Long term msd 3.376982\u001b[0m\n",
      "\u001b[31m[03/14/2019 14:10:48 INFO 140223307892544] Iter 370: Short term msd 3.375330. Long term msd 3.379730\u001b[0m\n",
      "\u001b[31m[03/14/2019 14:10:48 INFO 140223307892544] Iter 380: Short term msd 3.389425. Long term msd 3.389552\u001b[0m\n",
      "\u001b[31m[03/14/2019 14:10:48 INFO 140223307892544] Iter 390: Short term msd 3.341588. Long term msd 3.365913\u001b[0m\n",
      "\u001b[31m[03/14/2019 14:10:48 INFO 140223307892544] Iter 400: Short term msd 3.357520. Long term msd 3.369164\u001b[0m\n",
      "\u001b[31m[03/14/2019 14:10:49 INFO 140223307892544] Iter 410: Short term msd 3.348883. Long term msd 3.359821\u001b[0m\n",
      "\u001b[31m[03/14/2019 14:10:49 INFO 140223307892544] Iter 420: Short term msd 3.375728. Long term msd 3.368619\u001b[0m\n",
      "\u001b[31m[03/14/2019 14:10:49 INFO 140223307892544] Iter 430: Short term msd 3.405942. Long term msd 3.391788\u001b[0m\n",
      "\u001b[31m[03/14/2019 14:10:49 INFO 140223307892544] Iter 440: Short term msd 3.403436. Long term msd 3.400976\u001b[0m\n",
      "\u001b[31m[03/14/2019 14:10:50 INFO 140223307892544] Iter 450: Short term msd 3.386771. Long term msd 3.385674\u001b[0m\n",
      "\u001b[31m[03/14/2019 14:10:50 INFO 140223307892544] Iter 460: Short term msd 3.405255. Long term msd 3.401558\u001b[0m\n",
      "\u001b[31m[03/14/2019 14:10:50 INFO 140223307892544] Iter 470: Short term msd 3.410024. Long term msd 3.406407\u001b[0m\n",
      "\u001b[31m[03/14/2019 14:10:50 INFO 140223307892544] Iter 480: Short term msd 3.433123. Long term msd 3.422297\u001b[0m\n",
      "\u001b[31m[03/14/2019 14:10:50 INFO 140223307892544] Iter 490: Short term msd 3.383899. Long term msd 3.392752\u001b[0m\n",
      "\u001b[31m[03/14/2019 14:10:51 INFO 140223307892544] Iter 500: Short term msd 3.417579. Long term msd 3.411481\u001b[0m\n",
      "\u001b[31m[03/14/2019 14:10:51 INFO 140223307892544] Iter 510: Short term msd 3.415386. Long term msd 3.416636\u001b[0m\n",
      "\u001b[31m[03/14/2019 14:10:51 INFO 140223307892544] Iter 520: Short term msd 3.452196. Long term msd 3.419319\u001b[0m\n",
      "\u001b[31m[03/14/2019 14:10:51 INFO 140223307892544] Iter 530: Short term msd 3.417855. Long term msd 3.417646\u001b[0m\n",
      "\u001b[31m[03/14/2019 14:10:51 INFO 140223307892544] Iter 540: Short term msd 3.416290. Long term msd 3.413654\u001b[0m\n",
      "\u001b[31m[03/14/2019 14:10:51 INFO 140223307892544] Iter 550: Short term msd 3.457292. Long term msd 3.436838\u001b[0m\n",
      "\u001b[31m[03/14/2019 14:10:51 INFO 140223307892544] Iter 560: Short term msd 3.415855. Long term msd 3.414983\u001b[0m\n",
      "\u001b[31m[03/14/2019 14:10:51 INFO 140223307892544] Iter 570: Short term msd 3.388029. Long term msd 3.406572\u001b[0m\n",
      "\u001b[31m[03/14/2019 14:10:52 INFO 140223307892544] Iter 580: Short term msd 3.416981. Long term msd 3.418581\u001b[0m\n",
      "\u001b[31m[03/14/2019 14:10:52 INFO 140223307892544] Iter 590: Short term msd 3.459302. Long term msd 3.447867\u001b[0m\n",
      "\u001b[31m[03/14/2019 14:10:52 INFO 140223307892544] Iter 600: Short term msd 3.421636. Long term msd 3.435611\u001b[0m\n",
      "\u001b[31m[03/14/2019 14:10:52 INFO 140223307892544] Iter 610: Short term msd 3.410243. Long term msd 3.421976\u001b[0m\n",
      "\u001b[31m[03/14/2019 14:10:52 INFO 140223307892544] Iter 620: Short term msd 3.438687. Long term msd 3.440154\u001b[0m\n",
      "\u001b[31m[03/14/2019 14:10:52 INFO 140223307892544] Iter 630: Short term msd 3.400835. Long term msd 3.410358\u001b[0m\n",
      "\u001b[31m[03/14/2019 14:10:52 INFO 140223307892544] Iter 640: Short term msd 3.464932. Long term msd 3.442031\u001b[0m\n",
      "\u001b[31m[03/14/2019 14:10:52 INFO 140223307892544] Iter 650: Short term msd 3.455410. Long term msd 3.447985\u001b[0m\n",
      "\u001b[31m[03/14/2019 14:10:52 INFO 140223307892544] Iter 660: Short term msd 3.368848. Long term msd 3.391451\u001b[0m\n",
      "\u001b[31m[03/14/2019 14:10:53 INFO 140223307892544] Iter 670: Short term msd 3.442437. Long term msd 3.427811\u001b[0m\n",
      "\u001b[31m[03/14/2019 14:10:53 INFO 140223307892544] Iter 680: Short term msd 3.426078. Long term msd 3.426684\u001b[0m\n",
      "\u001b[31m[03/14/2019 14:10:53 INFO 140223307892544] Iter 690: Short term msd 3.368825. Long term msd 3.395749\u001b[0m\n",
      "\u001b[31m[03/14/2019 14:10:53 INFO 140223307892544] Iter 700: Short term msd 3.409273. Long term msd 3.407461\u001b[0m\n",
      "\u001b[31m[03/14/2019 14:10:53 INFO 140223307892544] Iter 710: Short term msd 3.431379. Long term msd 3.430086\u001b[0m\n",
      "\u001b[31m[03/14/2019 14:10:53 INFO 140223307892544] processed a total of 3600000 examples\u001b[0m\n",
      "\u001b[31m[03/14/2019 14:10:53 INFO 140223307892544] #progress_metric: host=algo-1, completed 100 % of epochs\u001b[0m\n",
      "\u001b[31m#metrics {\"Metrics\": {\"Max Batches Seen Between Resets\": {\"count\": 1, \"max\": 720, \"sum\": 720.0, \"min\": 720}, \"Number of Batches Since Last Reset\": {\"count\": 1, \"max\": 720, \"sum\": 720.0, \"min\": 720}, \"Number of Records Since Last Reset\": {\"count\": 1, \"max\": 3600000, \"sum\": 3600000.0, \"min\": 3600000}, \"Total Batches Seen\": {\"count\": 1, \"max\": 721, \"sum\": 721.0, \"min\": 721}, \"Total Records Seen\": {\"count\": 1, \"max\": 3605000, \"sum\": 3605000.0, \"min\": 3605000}, \"Max Records Seen Between Resets\": {\"count\": 1, \"max\": 3600000, \"sum\": 3600000.0, \"min\": 3600000}, \"Reset Count\": {\"count\": 1, \"max\": 1, \"sum\": 1.0, \"min\": 1}}, \"EndTime\": 1552572653.504262, \"Dimensions\": {\"Host\": \"algo-1\", \"Meta\": \"training_data_iter\", \"Operation\": \"training\", \"Algorithm\": \"AWS/KMeansWebscale\", \"epoch\": 0}, \"StartTime\": 1552572640.468248}\n",
      "\u001b[0m\n",
      "\u001b[31m[03/14/2019 14:10:53 INFO 140223307892544] #throughput_metric: host=algo-1, train throughput=276155.219281 records/second\u001b[0m\n",
      "\u001b[31m[03/14/2019 14:10:53 WARNING 140223307892544] wait_for_all_workers will not sync workers since the kv store is not running distributed\u001b[0m\n",
      "\u001b[31m[03/14/2019 14:10:53 INFO 140223307892544] shrinking 20 centers into 2\u001b[0m\n",
      "\u001b[31m[03/14/2019 14:10:53 INFO 140223307892544] local kmeans attempt #0. Current mean square distance 1.293243\u001b[0m\n",
      "\u001b[31m[03/14/2019 14:10:53 INFO 140223307892544] local kmeans attempt #1. Current mean square distance 1.298375\u001b[0m\n",
      "\u001b[31m[03/14/2019 14:10:53 INFO 140223307892544] local kmeans attempt #2. Current mean square distance 1.708788\u001b[0m\n",
      "\u001b[31m[03/14/2019 14:10:53 INFO 140223307892544] local kmeans attempt #3. Current mean square distance 1.298375\u001b[0m\n",
      "\u001b[31m[03/14/2019 14:10:53 INFO 140223307892544] local kmeans attempt #4. Current mean square distance 1.298375\u001b[0m\n",
      "\u001b[31m[03/14/2019 14:10:53 INFO 140223307892544] local kmeans attempt #5. Current mean square distance 1.293243\u001b[0m\n",
      "\u001b[31m[03/14/2019 14:10:53 INFO 140223307892544] local kmeans attempt #6. Current mean square distance 1.299812\u001b[0m\n",
      "\u001b[31m[03/14/2019 14:10:53 INFO 140223307892544] local kmeans attempt #7. Current mean square distance 1.298375\u001b[0m\n",
      "\u001b[31m[03/14/2019 14:10:53 INFO 140223307892544] local kmeans attempt #8. Current mean square distance 1.298375\u001b[0m\n",
      "\u001b[31m[03/14/2019 14:10:53 INFO 140223307892544] local kmeans attempt #9. Current mean square distance 1.298375\u001b[0m\n",
      "\u001b[31m[03/14/2019 14:10:53 INFO 140223307892544] finished shrinking process. Mean Square Distance = 1\u001b[0m\n",
      "\u001b[31m[03/14/2019 14:10:53 INFO 140223307892544] #quality_metric: host=algo-1, train msd <loss>=1.29324328899\u001b[0m\n",
      "\u001b[31m[03/14/2019 14:10:53 INFO 140223307892544] batch data loading with context took: 47.0486%, (6.089530 secs)\u001b[0m\n",
      "\u001b[31m[03/14/2019 14:10:53 INFO 140223307892544] compute all data-center distances: point norm took: 20.4999%, (2.653315 secs)\u001b[0m\n",
      "\u001b[31m[03/14/2019 14:10:53 INFO 140223307892544] predict compute msd took: 11.3325%, (1.466772 secs)\u001b[0m\n",
      "\u001b[31m[03/14/2019 14:10:53 INFO 140223307892544] compute all data-center distances: inner product took: 5.1502%, (0.666599 secs)\u001b[0m\n",
      "\u001b[31m[03/14/2019 14:10:53 INFO 140223307892544] gradient: cluster center took: 4.8176%, (0.623539 secs)\u001b[0m\n",
      "\u001b[31m[03/14/2019 14:10:53 INFO 140223307892544] gradient: cluster size  took: 4.2149%, (0.545531 secs)\u001b[0m\n",
      "\u001b[31m[03/14/2019 14:10:53 INFO 140223307892544] update state and report convergance took: 2.4890%, (0.322159 secs)\u001b[0m\n",
      "\u001b[31m[03/14/2019 14:10:53 INFO 140223307892544] collect from kv store took: 1.5058%, (0.194892 secs)\u001b[0m\n",
      "\u001b[31m[03/14/2019 14:10:53 INFO 140223307892544] compute all data-center distances: center norm took: 1.0916%, (0.141292 secs)\u001b[0m\n",
      "\u001b[31m[03/14/2019 14:10:53 INFO 140223307892544] gradient: one_hot took: 0.8759%, (0.113368 secs)\u001b[0m\n",
      "\u001b[31m[03/14/2019 14:10:53 INFO 140223307892544] splitting centers key-value pair took: 0.8412%, (0.108882 secs)\u001b[0m\n",
      "\u001b[31m[03/14/2019 14:10:53 INFO 140223307892544] predict minus dist took: 0.1311%, (0.016968 secs)\u001b[0m\n",
      "\u001b[31m[03/14/2019 14:10:53 INFO 140223307892544] update set-up time took: 0.0016%, (0.000211 secs)\u001b[0m\n",
      "\u001b[31m[03/14/2019 14:10:53 INFO 140223307892544] TOTAL took: 12.9430589676\u001b[0m\n",
      "\u001b[31m[03/14/2019 14:10:53 INFO 140223307892544] Number of GPUs being used: 0\u001b[0m\n",
      "\u001b[31m#metrics {\"Metrics\": {\"finalize.time\": {\"count\": 1, \"max\": 138.69500160217285, \"sum\": 138.69500160217285, \"min\": 138.69500160217285}, \"initialize.time\": {\"count\": 1, \"max\": 15.140056610107422, \"sum\": 15.140056610107422, \"min\": 15.140056610107422}, \"model.serialize.time\": {\"count\": 1, \"max\": 0.15592575073242188, \"sum\": 0.15592575073242188, \"min\": 0.15592575073242188}, \"update.time\": {\"count\": 1, \"max\": 13035.824060440063, \"sum\": 13035.824060440063, \"min\": 13035.824060440063}, \"epochs\": {\"count\": 1, \"max\": 1, \"sum\": 1.0, \"min\": 1}, \"state.serialize.time\": {\"count\": 1, \"max\": 1.9159317016601562, \"sum\": 1.9159317016601562, \"min\": 1.9159317016601562}, \"_shrink.time\": {\"count\": 1, \"max\": 136.9948387145996, \"sum\": 136.9948387145996, \"min\": 136.9948387145996}}, \"EndTime\": 1552572653.645519, \"Dimensions\": {\"Host\": \"algo-1\", \"Operation\": \"training\", \"Algorithm\": \"AWS/KMeansWebscale\"}, \"StartTime\": 1552572640.429167}\n",
      "\u001b[0m\n",
      "\u001b[31m[03/14/2019 14:10:53 INFO 140223307892544] Test data is not provided.\u001b[0m\n",
      "\u001b[31m[2019-03-14 14:10:53.645] [tensorio] [info] data_pipeline_stats={\"name\": \"/opt/ml/input/data/train\", \"epoch\": 1, \"duration\": 13177, \"num_examples\": 720}\u001b[0m\n",
      "\u001b[31m[2019-03-14 14:10:53.645] [tensorio] [info] data_pipeline_stats={\"name\": \"/opt/ml/input/data/train\", \"duration\": 13214, \"num_epochs\": 2, \"num_examples\": 721}\u001b[0m\n",
      "\u001b[31m#metrics {\"Metrics\": {\"totaltime\": {\"count\": 1, \"max\": 13294.751167297363, \"sum\": 13294.751167297363, \"min\": 13294.751167297363}, \"setuptime\": {\"count\": 1, \"max\": 20.8280086517334, \"sum\": 20.8280086517334, \"min\": 20.8280086517334}}, \"EndTime\": 1552572653.655707, \"Dimensions\": {\"Host\": \"algo-1\", \"Operation\": \"training\", \"Algorithm\": \"AWS/KMeansWebscale\"}, \"StartTime\": 1552572653.645641}\n",
      "\u001b[0m\n"
     ]
    },
    {
     "name": "stdout",
     "output_type": "stream",
     "text": [
      "\n",
      "2019-03-14 14:11:01 Uploading - Uploading generated training model\n",
      "2019-03-14 14:11:01 Completed - Training job completed\n",
      "Billable seconds: 55\n",
      "CPU times: user 2min 35s, sys: 7.44 s, total: 2min 42s\n",
      "Wall time: 6min 25s\n"
     ]
    }
   ],
   "source": [
    "%%time\n",
    "kmeans.fit(kmeans.record_set(train_data))"
   ]
  },
  {
   "cell_type": "code",
   "execution_count": 142,
   "metadata": {},
   "outputs": [
    {
     "name": "stderr",
     "output_type": "stream",
     "text": [
      "INFO:sagemaker:Creating model with name: kmeans-2019-03-14-14-31-49-721\n",
      "INFO:sagemaker:Creating endpoint with name kmeans-2019-03-14-14-07-37-442\n"
     ]
    },
    {
     "name": "stdout",
     "output_type": "stream",
     "text": [
      "---------------------------------------------------------------------------------------!CPU times: user 3.22 s, sys: 3.47 s, total: 6.69 s\n",
      "Wall time: 7min 21s\n"
     ]
    }
   ],
   "source": [
    "%%time\n",
    "# send original training set and get positive/negative review labels\n",
    "kmeans_predictor = kmeans.deploy(initial_instance_count=1, \n",
    "                                 instance_type='ml.t2.medium')"
   ]
  },
  {
   "cell_type": "code",
   "execution_count": 146,
   "metadata": {},
   "outputs": [
    {
     "data": {
      "text/plain": [
       "array([[-0.01986848, -0.952562  , -0.6567664 , ..., -0.02671252,\n",
       "        -0.28648046,  0.25165424],\n",
       "       [ 0.01065152, -0.9674835 , -0.50248563, ...,  0.2685237 ,\n",
       "        -0.30245423,  0.26710665],\n",
       "       [-0.17787108, -1.02689   , -0.3662867 , ...,  0.34374633,\n",
       "        -0.04753788,  0.39665374],\n",
       "       ...,\n",
       "       [-0.33110967, -0.66746557, -0.40593022, ...,  0.24333486,\n",
       "        -0.8377356 ,  0.2884604 ],\n",
       "       [-0.09668317, -0.64469254, -0.5466572 , ...,  0.20718008,\n",
       "        -0.65594685,  0.32255456],\n",
       "       [-0.24755973, -0.87659824, -0.34699205, ...,  0.36552447,\n",
       "        -0.3719855 ,  0.22197278]], dtype=float32)"
      ]
     },
     "execution_count": 146,
     "metadata": {},
     "output_type": "execute_result"
    }
   ],
   "source": [
    "train_data[:1000,:]"
   ]
  },
  {
   "cell_type": "code",
   "execution_count": 169,
   "metadata": {},
   "outputs": [
    {
     "name": "stdout",
     "output_type": "stream",
     "text": [
      "CPU times: user 888 ms, sys: 7.63 ms, total: 896 ms\n",
      "Wall time: 1.53 s\n"
     ]
    }
   ],
   "source": [
    "%%time\n",
    "result=kmeans_predictor.predict(train_data[:10000,:])  ## limit the size else you will get error. "
   ]
  },
  {
   "cell_type": "code",
   "execution_count": 159,
   "metadata": {},
   "outputs": [
    {
     "name": "stderr",
     "output_type": "stream",
     "text": [
      "/home/ec2-user/anaconda3/envs/python3/lib/python3.6/site-packages/matplotlib/axes/_axes.py:6462: UserWarning: The 'normed' kwarg is deprecated, and has been replaced by the 'density' kwarg.\n",
      "  warnings.warn(\"The 'normed' kwarg is deprecated, and has been \"\n"
     ]
    },
    {
     "data": {
      "image/png": "[encoded data removed]",
      "text/plain": [
       "<Figure size 432x216 with 1 Axes>"
      ]
     },
     "metadata": {},
     "output_type": "display_data"
    }
   ],
   "source": [
    "# breakdown of cluster counts and distribution of clusters\n",
    "cluster_labels = [r.label['closest_cluster'].float32_tensor.values[0] for r in result]\n",
    "pd.DataFrame(cluster_labels)[0].value_counts()\n",
    "ax=plt.subplots(figsize=(6,3))\n",
    "ax=sns.distplot(cluster_labels, kde=False)\n",
    "title=\"Histogram of Cluster Counts\"\n",
    "ax.set_title(title, fontsize=12)\n",
    "plt.show()"
   ]
  },
  {
   "cell_type": "code",
   "execution_count": 160,
   "metadata": {},
   "outputs": [],
   "source": [
    "# read test data\n",
    "test_data = pd.read_csv('polarity_vector.validation', header=None, nrows=10000).values.astype('float32')  # load training data vectors"
   ]
  },
  {
   "cell_type": "code",
   "execution_count": 221,
   "metadata": {},
   "outputs": [
    {
     "name": "stderr",
     "output_type": "stream",
     "text": [
      "/home/ec2-user/anaconda3/envs/python3/lib/python3.6/site-packages/matplotlib/axes/_axes.py:6462: UserWarning: The 'normed' kwarg is deprecated, and has been replaced by the 'density' kwarg.\n",
      "  warnings.warn(\"The 'normed' kwarg is deprecated, and has been \"\n"
     ]
    },
    {
     "data": {
      "image/png": "[encoded data removed]",
      "text/plain": [
       "<Figure size 432x216 with 1 Axes>"
      ]
     },
     "metadata": {},
     "output_type": "display_data"
    },
    {
     "name": "stdout",
     "output_type": "stream",
     "text": [
      "CPU times: user 1.15 s, sys: 187 ms, total: 1.33 s\n",
      "Wall time: 1.76 s\n"
     ]
    }
   ],
   "source": [
    "%%time\n",
    "result=kmeans_predictor.predict(test_data)  ## limit the size else you will get error. \n",
    "# breakdown of cluster counts and distribution of clusters\n",
    "cluster_labels = [r.label['closest_cluster'].float32_tensor.values[0] for r in result]\n",
    "pd.DataFrame(cluster_labels)[0].value_counts()\n",
    "ax=plt.subplots(figsize=(6,3))\n",
    "ax=sns.distplot(cluster_labels, kde=False)\n",
    "title=\"Histogram of Cluster Counts\"\n",
    "ax.set_title(title, fontsize=12)\n",
    "plt.show()"
   ]
  },
  {
   "cell_type": "code",
   "execution_count": 222,
   "metadata": {},
   "outputs": [
    {
     "data": {
      "text/plain": [
       "1.0    1\n",
       "Name: 0, dtype: int64"
      ]
     },
     "execution_count": 222,
     "metadata": {},
     "output_type": "execute_result"
    }
   ],
   "source": [
    "# test single line\n",
    "result=kmeans_predictor.predict(test_data[0,:])  ## limit the size else you will get error. \n",
    "# breakdown of cluster counts and distribution of clusters\n",
    "cluster_label = [r.label['closest_cluster'].float32_tensor.values[0] for r in result]\n",
    "pd.DataFrame(cluster_label)[0].value_counts()"
   ]
  },
  {
   "cell_type": "code",
   "execution_count": 177,
   "metadata": {},
   "outputs": [],
   "source": [
    "# read original test file\n",
    "test_data_original = pd.read_csv('/home/ec2-user/SageMaker/amazon_review_polarity_csv/test.csv', header=None, nrows=10000)"
   ]
  },
  {
   "cell_type": "code",
   "execution_count": 211,
   "metadata": {},
   "outputs": [],
   "source": [
    "test_data_original.columns=['label','title','review']"
   ]
  },
  {
   "cell_type": "code",
   "execution_count": 227,
   "metadata": {},
   "outputs": [],
   "source": [
    "test_data_original.label = test_data_original.label - 1"
   ]
  },
  {
   "cell_type": "code",
   "execution_count": 228,
   "metadata": {},
   "outputs": [
    {
     "data": {
      "text/plain": [
       "1    5125\n",
       "0    4875\n",
       "Name: label, dtype: int64"
      ]
     },
     "execution_count": 228,
     "metadata": {},
     "output_type": "execute_result"
    }
   ],
   "source": [
    "test_data_original.label.value_counts()"
   ]
  },
  {
   "cell_type": "code",
   "execution_count": 236,
   "metadata": {},
   "outputs": [],
   "source": [
    "cluster_labels = [int(i) for i in cluster_labels]"
   ]
  },
  {
   "cell_type": "code",
   "execution_count": 237,
   "metadata": {},
   "outputs": [
    {
     "data": {
      "text/plain": [
       "1    6950\n",
       "0    3050\n",
       "Name: 0, dtype: int64"
      ]
     },
     "execution_count": 237,
     "metadata": {},
     "output_type": "execute_result"
    }
   ],
   "source": [
    "pd.DataFrame(cluster_labels)[0].value_counts()"
   ]
  },
  {
   "cell_type": "code",
   "execution_count": 244,
   "metadata": {},
   "outputs": [
    {
     "name": "stdout",
     "output_type": "stream",
     "text": [
      "Predicted     0     1\n",
      "Actual               \n",
      "0          1687  3188\n",
      "1          1363  3762\n",
      "             precision    recall  f1-score   support\n",
      "\n",
      "          0       0.55      0.35      0.43      4875\n",
      "          1       0.54      0.73      0.62      5125\n",
      "\n",
      "avg / total       0.55      0.54      0.53     10000\n",
      "\n"
     ]
    }
   ],
   "source": [
    "from sklearn.metrics import confusion_matrix, classification_report\n",
    "print(pd.crosstab(test_data_original.label, pd.DataFrame(cluster_labels)[0], \\\n",
    "                  rownames=['Actual'], colnames=['Predicted']))\n",
    "print(classification_report(test_data_original.label, pd.DataFrame(cluster_labels)[0]))\n",
    " "
   ]
  },
  {
   "cell_type": "code",
   "execution_count": null,
   "metadata": {},
   "outputs": [],
   "source": []
  }
 ],
 "metadata": {
  "kernelspec": {
   "display_name": "conda_python3",
   "language": "python",
   "name": "conda_python3"
  },
  "language_info": {
   "codemirror_mode": {
    "name": "ipython",
    "version": 3
   },
   "file_extension": ".py",
   "mimetype": "text/x-python",
   "name": "python",
   "nbconvert_exporter": "python",
   "pygments_lexer": "ipython3",
   "version": "3.6.5"
  }
 },
 "nbformat": 4,
 "nbformat_minor": 2
}
