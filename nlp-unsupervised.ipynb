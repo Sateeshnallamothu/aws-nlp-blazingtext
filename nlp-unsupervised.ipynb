{
 "cells": [
  {
   "cell_type": "code",
   "execution_count": 11,
   "metadata": {},
   "outputs": [
    {
     "name": "stdout",
     "output_type": "stream",
     "text": [
      "arn:aws:iam::023375022819:role/service-role/AmazonSageMaker-ExecutionRole-20181029T121824\n",
      "qanv-aws-1\n"
     ]
    }
   ],
   "source": [
    "import sagemaker\n",
    "from sagemaker import get_execution_role\n",
    "import json\n",
    "import boto3\n",
    "import pandas as pd\n",
    "sess = sagemaker.Session()\n",
    "\n",
    "role = get_execution_role()\n",
    "print(role) # This is the role that SageMaker would use to leverage AWS resources (S3, CloudWatch) on your behalf\n",
    "\n",
    "bucket = 'qanv-aws-1' #sess.default_bucket() # Replace with your own bucket name if needed\n",
    "print(bucket)\n",
    "#prefix = 'blazingtext/supervised' #Replace with the prefix under which you want to store the data if needed\n",
    "prefix = 'nlp/unsupervised' #Replace with the prefix under which you want to store the data if needed"
   ]
  },
  {
   "cell_type": "code",
   "execution_count": 3,
   "metadata": {},
   "outputs": [
    {
     "name": "stdout",
     "output_type": "stream",
     "text": [
      "/home/ec2-user/SageMaker/aws-ml-nlp\r\n"
     ]
    }
   ],
   "source": [
    "!pwd"
   ]
  },
  {
   "cell_type": "code",
   "execution_count": 2,
   "metadata": {},
   "outputs": [
    {
     "name": "stdout",
     "output_type": "stream",
     "text": [
      "--2019-03-13 00:46:13--  https://s3.amazonaws.com/fast-ai-nlp/amazon_review_polarity_csv.tgz\n",
      "Resolving s3.amazonaws.com (s3.amazonaws.com)... 52.216.233.13\n",
      "Connecting to s3.amazonaws.com (s3.amazonaws.com)|52.216.233.13|:443... connected.\n",
      "HTTP request sent, awaiting response... 200 OK\n",
      "Length: 688339454 (656M) [application/x-tar]\n",
      "Saving to: ‘amazon_review_polarity_csv.tgz.1’\n",
      "\n",
      "amazon_review_polar 100%[===================>] 656.45M  48.1MB/s    in 13s     \n",
      "\n",
      "2019-03-13 00:46:26 (49.7 MB/s) - ‘amazon_review_polarity_csv.tgz.1’ saved [688339454/688339454]\n",
      "\n"
     ]
    }
   ],
   "source": [
    "!wget https://s3.amazonaws.com/fast-ai-nlp/amazon_review_polarity_csv.tgz"
   ]
  },
  {
   "cell_type": "code",
   "execution_count": 3,
   "metadata": {},
   "outputs": [
    {
     "name": "stdout",
     "output_type": "stream",
     "text": [
      "amazon_review_polarity_csv/\n",
      "amazon_review_polarity_csv/train.csv\n",
      "amazon_review_polarity_csv/readme.txt\n",
      "amazon_review_polarity_csv/test.csv\n"
     ]
    }
   ],
   "source": [
    " \n",
    "!tar -xvzf amazon_review_polarity_csv.tgz\n",
    "#df = pd.read_csv(\"amazon_review_polarity_csv/train.csv\", names=[\"Label\", \"Title\", \"Review\"])"
   ]
  },
  {
   "cell_type": "code",
   "execution_count": 4,
   "metadata": {},
   "outputs": [],
   "source": [
    "test_df = pd.read_csv(\"/home/ec2-user/SageMaker/amazon_review_polarity_csv/test.csv\", names=[\"Label\", \"Title\", \"Review\"])\n"
   ]
  },
  {
   "cell_type": "code",
   "execution_count": 3,
   "metadata": {},
   "outputs": [
    {
     "data": {
      "text/plain": [
       "2    200000\n",
       "1    200000\n",
       "Name: Label, dtype: int64"
      ]
     },
     "execution_count": 3,
     "metadata": {},
     "output_type": "execute_result"
    }
   ],
   "source": [
    "test_df.Label.value_counts()"
   ]
  },
  {
   "cell_type": "code",
   "execution_count": 4,
   "metadata": {},
   "outputs": [
    {
     "data": {
      "text/plain": [
       "Label      int64\n",
       "Title     object\n",
       "Review    object\n",
       "dtype: object"
      ]
     },
     "execution_count": 4,
     "metadata": {},
     "output_type": "execute_result"
    }
   ],
   "source": [
    "test_df.dtypes"
   ]
  },
  {
   "cell_type": "code",
   "execution_count": 5,
   "metadata": {},
   "outputs": [
    {
     "data": {
      "text/html": [
       "<div>\n",
       "<style scoped>\n",
       "    .dataframe tbody tr th:only-of-type {\n",
       "        vertical-align: middle;\n",
       "    }\n",
       "\n",
       "    .dataframe tbody tr th {\n",
       "        vertical-align: top;\n",
       "    }\n",
       "\n",
       "    .dataframe thead th {\n",
       "        text-align: right;\n",
       "    }\n",
       "</style>\n",
       "<table border=\"1\" class=\"dataframe\">\n",
       "  <thead>\n",
       "    <tr style=\"text-align: right;\">\n",
       "      <th></th>\n",
       "      <th>Label</th>\n",
       "      <th>Title</th>\n",
       "      <th>Review</th>\n",
       "    </tr>\n",
       "  </thead>\n",
       "  <tbody>\n",
       "    <tr>\n",
       "      <th>149518</th>\n",
       "      <td>1</td>\n",
       "      <td>Poor Gilbert :-(</td>\n",
       "      <td>Poor Gilbert! He must have turned over in his ...</td>\n",
       "    </tr>\n",
       "    <tr>\n",
       "      <th>90156</th>\n",
       "      <td>1</td>\n",
       "      <td>too much of bad things can't be good</td>\n",
       "      <td>Usually I am able to fly through books by Larr...</td>\n",
       "    </tr>\n",
       "    <tr>\n",
       "      <th>32609</th>\n",
       "      <td>2</td>\n",
       "      <td>This is one nice cd.</td>\n",
       "      <td>Nas has done it again. This cd is all that. It...</td>\n",
       "    </tr>\n",
       "    <tr>\n",
       "      <th>175748</th>\n",
       "      <td>1</td>\n",
       "      <td>dont buy</td>\n",
       "      <td>This is trash I dont know who rates this devic...</td>\n",
       "    </tr>\n",
       "    <tr>\n",
       "      <th>221435</th>\n",
       "      <td>1</td>\n",
       "      <td>Not for technical use.</td>\n",
       "      <td>If you want read guitar amp appreciation, this...</td>\n",
       "    </tr>\n",
       "    <tr>\n",
       "      <th>316393</th>\n",
       "      <td>2</td>\n",
       "      <td>Written from the heart...</td>\n",
       "      <td>Mr. Sapoznik not only does an enviable job of ...</td>\n",
       "    </tr>\n",
       "    <tr>\n",
       "      <th>175026</th>\n",
       "      <td>1</td>\n",
       "      <td>Functional but not made to withstand travel</td>\n",
       "      <td>Its silly that this bag is so flimsy and not m...</td>\n",
       "    </tr>\n",
       "    <tr>\n",
       "      <th>309768</th>\n",
       "      <td>1</td>\n",
       "      <td>One of the worst....</td>\n",
       "      <td>I like her aerobics classes on TV but this boo...</td>\n",
       "    </tr>\n",
       "    <tr>\n",
       "      <th>71884</th>\n",
       "      <td>2</td>\n",
       "      <td>The Beasties have done it again!</td>\n",
       "      <td>Wow, what a good CD! I really like the Beastie...</td>\n",
       "    </tr>\n",
       "    <tr>\n",
       "      <th>143618</th>\n",
       "      <td>1</td>\n",
       "      <td>Sorry I bought it -- a one-time read at most</td>\n",
       "      <td>I saw several good reviews of this book but I ...</td>\n",
       "    </tr>\n",
       "  </tbody>\n",
       "</table>\n",
       "</div>"
      ],
      "text/plain": [
       "        Label                                         Title  \\\n",
       "149518      1                              Poor Gilbert :-(   \n",
       "90156       1          too much of bad things can't be good   \n",
       "32609       2                          This is one nice cd.   \n",
       "175748      1                                      dont buy   \n",
       "221435      1                        Not for technical use.   \n",
       "316393      2                     Written from the heart...   \n",
       "175026      1   Functional but not made to withstand travel   \n",
       "309768      1                          One of the worst....   \n",
       "71884       2              The Beasties have done it again!   \n",
       "143618      1  Sorry I bought it -- a one-time read at most   \n",
       "\n",
       "                                                   Review  \n",
       "149518  Poor Gilbert! He must have turned over in his ...  \n",
       "90156   Usually I am able to fly through books by Larr...  \n",
       "32609   Nas has done it again. This cd is all that. It...  \n",
       "175748  This is trash I dont know who rates this devic...  \n",
       "221435  If you want read guitar amp appreciation, this...  \n",
       "316393  Mr. Sapoznik not only does an enviable job of ...  \n",
       "175026  Its silly that this bag is so flimsy and not m...  \n",
       "309768  I like her aerobics classes on TV but this boo...  \n",
       "71884   Wow, what a good CD! I really like the Beastie...  \n",
       "143618  I saw several good reviews of this book but I ...  "
      ]
     },
     "execution_count": 5,
     "metadata": {},
     "output_type": "execute_result"
    }
   ],
   "source": [
    "test_df.sample(10)\n"
   ]
  },
  {
   "cell_type": "code",
   "execution_count": null,
   "metadata": {},
   "outputs": [],
   "source": []
  },
  {
   "cell_type": "code",
   "execution_count": 5,
   "metadata": {},
   "outputs": [
    {
     "name": "stdout",
     "output_type": "stream",
     "text": [
      "[nltk_data] Downloading package punkt to /home/ec2-user/nltk_data...\n",
      "[nltk_data]   Package punkt is already up-to-date!\n"
     ]
    },
    {
     "data": {
      "text/plain": [
       "True"
      ]
     },
     "execution_count": 5,
     "metadata": {},
     "output_type": "execute_result"
    }
   ],
   "source": [
    "from random import shuffle\n",
    "import multiprocessing\n",
    "from multiprocessing import Pool\n",
    "import csv\n",
    "import nltk\n",
    "nltk.download('punkt')"
   ]
  },
  {
   "cell_type": "code",
   "execution_count": 7,
   "metadata": {},
   "outputs": [],
   "source": [
    "index_to_label = {'1': 'Negative', '2': 'Positive'}"
   ]
  },
  {
   "cell_type": "code",
   "execution_count": 7,
   "metadata": {},
   "outputs": [],
   "source": [
    "def transform_instance(row):\n",
    "    cur_row = []\n",
    "    #label = \"__label__\" + index_to_label[row[0]]  #Prefix the index-ed label with __label__\n",
    "    #cur_row.append(label)\n",
    "    cur_row.extend(nltk.word_tokenize(row[1].lower()))\n",
    "    cur_row.extend(nltk.word_tokenize(row[2].lower()))\n",
    "    return cur_row"
   ]
  },
  {
   "cell_type": "code",
   "execution_count": 8,
   "metadata": {},
   "outputs": [],
   "source": [
    "def preprocess(input_file, output_file, keep=1):\n",
    "    all_rows = []\n",
    "    with open(input_file, 'r') as csvinfile:\n",
    "        csv_reader = csv.reader(csvinfile, delimiter=',')\n",
    "        for row in csv_reader:\n",
    "            all_rows.append(row)\n",
    "    shuffle(all_rows)\n",
    "    all_rows = all_rows[:int(keep*len(all_rows))]\n",
    "    pool = Pool(processes=multiprocessing.cpu_count())\n",
    "    transformed_rows = pool.map(transform_instance, all_rows)\n",
    "    pool.close() \n",
    "    pool.join()\n",
    "    \n",
    "    with open(output_file, 'w') as csvoutfile:\n",
    "        csv_writer = csv.writer(csvoutfile, delimiter=' ', lineterminator='\\n')\n",
    "        csv_writer.writerows(transformed_rows)"
   ]
  },
  {
   "cell_type": "code",
   "execution_count": null,
   "metadata": {},
   "outputs": [],
   "source": [
    "%%timeit\n",
    "# Preparing the training dataset\n",
    "\n",
    "# Since preprocessing the whole dataset might take a couple of mintutes,\n",
    "# we keep 20% of the training dataset for this demo.\n",
    "# Set keep to 1 if you want to use the complete dataset\n",
    "preprocess('/home/ec2-user/SageMaker/amazon_review_polarity_csv/train.csv', 'polarity_un.train', keep=.2)\n",
    "        \n",
    "# Preparing the validation dataset        \n",
    "preprocess('/home/ec2-user/SageMaker/amazon_review_polarity_csv/test.csv', 'polarity_un.validation')"
   ]
  },
  {
   "cell_type": "code",
   "execution_count": 12,
   "metadata": {},
   "outputs": [
    {
     "name": "stdout",
     "output_type": "stream",
     "text": [
      "CPU times: user 4.05 s, sys: 1.2 s, total: 5.25 s\n",
      "Wall time: 8.21 s\n"
     ]
    }
   ],
   "source": [
    "%%time\n",
    "\n",
    "train_channel = prefix + '/train'\n",
    "validation_channel = prefix + '/validation'\n",
    "\n",
    "sess.upload_data(path='polarity_un.train', bucket=bucket, key_prefix=train_channel)\n",
    "sess.upload_data(path='polarity_un.validation', bucket=bucket, key_prefix=validation_channel)\n",
    "\n",
    "s3_train_data = 's3://{}/{}'.format(bucket, train_channel)\n",
    "s3_validation_data = 's3://{}/{}'.format(bucket, validation_channel)\n",
    "s3_output_location = 's3://{}/{}/output'.format(bucket, prefix)"
   ]
  },
  {
   "cell_type": "code",
   "execution_count": 13,
   "metadata": {},
   "outputs": [
    {
     "name": "stdout",
     "output_type": "stream",
     "text": [
      "Using SageMaker BlazingText container: 811284229777.dkr.ecr.us-east-1.amazonaws.com/blazingtext:latest (us-east-1)\n"
     ]
    }
   ],
   "source": [
    "region_name = boto3.Session().region_name\n",
    "container = sagemaker.amazon.amazon_estimator.get_image_uri(region_name, \"blazingtext\", \"latest\")\n",
    "print('Using SageMaker BlazingText container: {} ({})'.format(container, region_name))\n"
   ]
  },
  {
   "cell_type": "code",
   "execution_count": 15,
   "metadata": {},
   "outputs": [],
   "source": [
    "bt_model = sagemaker.estimator.Estimator(container,\n",
    "                                         role, \n",
    "                                         base_job_name = 'qanv',\n",
    "                                         train_instance_count=1, \n",
    "                                         train_instance_type='ml.c4.4xlarge',\n",
    "                                         train_volume_size = 30,\n",
    "                                         train_max_run = 360000,\n",
    "                                         input_mode= 'File',\n",
    "                                         output_path=s3_output_location,\n",
    "                                         sagemaker_session=sess)\n",
    "bt_model.set_hyperparameters(mode=\"cbow\",\n",
    "                            epochs=10,\n",
    "                            min_count=2,\n",
    "                            learning_rate=0.05,\n",
    "                            sampling_threshold=0.0001,\n",
    "                            vector_dim=100,\n",
    "                            negative_samples=5,\n",
    "                            early_stopping=True,\n",
    "                            patience=4,\n",
    "                            min_epochs=5)"
   ]
  },
  {
   "cell_type": "code",
   "execution_count": 16,
   "metadata": {},
   "outputs": [],
   "source": [
    "train_data = sagemaker.session.s3_input(s3_train_data, distribution='FullyReplicated', \n",
    "                        content_type='text/plain', s3_data_type='S3Prefix')\n",
    "validation_data = sagemaker.session.s3_input(s3_validation_data, distribution='FullyReplicated', \n",
    "                             content_type='text/plain', s3_data_type='S3Prefix')\n",
    "data_channels = {'train': train_data, 'validation': validation_data}"
   ]
  },
  {
   "cell_type": "code",
   "execution_count": 17,
   "metadata": {},
   "outputs": [
    {
     "name": "stderr",
     "output_type": "stream",
     "text": [
      "INFO:sagemaker:Creating training-job with name: qanv-2019-03-13-16-48-02-211\n"
     ]
    },
    {
     "name": "stdout",
     "output_type": "stream",
     "text": [
      "2019-03-13 16:48:02 Starting - Starting the training job...\n",
      "2019-03-13 16:48:03 Starting - Launching requested ML instances......\n",
      "2019-03-13 16:49:08 Starting - Preparing the instances for training...\n",
      "2019-03-13 16:49:58 Downloading - Downloading input data\n",
      "2019-03-13 16:49:58 Training - Training image download completed. Training in progress.....\n",
      "\u001b[31mArguments: train\u001b[0m\n",
      "\u001b[31m[03/13/2019 16:49:58 WARNING 139967447238464] Loggers have already been setup.\u001b[0m\n",
      "\u001b[31m[03/13/2019 16:49:58 WARNING 139967447238464] Loggers have already been setup.\u001b[0m\n",
      "\u001b[31m[03/13/2019 16:49:58 INFO 139967447238464] nvidia-smi took: 0.025171995163 secs to identify 0 gpus\u001b[0m\n",
      "\u001b[31m[03/13/2019 16:49:58 INFO 139967447238464] Running single machine CPU BlazingText training using cbow mode.\u001b[0m\n",
      "\u001b[31m[03/13/2019 16:49:58 INFO 139967447238464] Processing /opt/ml/input/data/train/polarity_un.train . File size: 304 MB\u001b[0m\n",
      "\u001b[31m[03/13/2019 16:49:58 INFO 139967447238464] Processing /opt/ml/input/data/validation/polarity_un.validation . File size: 169 MB\u001b[0m\n",
      "\u001b[31mRead 10M words\u001b[0m\n",
      "\u001b[31mRead 20M words\u001b[0m\n",
      "\u001b[31mRead 30M words\u001b[0m\n",
      "\u001b[31mRead 40M words\u001b[0m\n",
      "\u001b[31mRead 50M words\u001b[0m\n",
      "\u001b[31mRead 60M words\u001b[0m\n",
      "\u001b[31mRead 65M words\u001b[0m\n",
      "\u001b[31mNumber of words:  221970\u001b[0m\n",
      "\u001b[31m##### Alpha: 0.0490  Progress: 2.09%  Million Words/sec: 5.24 #####\u001b[0m\n",
      "\u001b[31m##### Alpha: 0.0464  Progress: 7.23%  Million Words/sec: 8.02 #####\u001b[0m\n",
      "\u001b[31m##### Alpha: 0.0438  Progress: 12.37%  Million Words/sec: 8.80 #####\u001b[0m\n",
      "\u001b[31m##### Alpha: 0.0412  Progress: 17.51%  Million Words/sec: 9.17 #####\u001b[0m\n",
      "\u001b[31m##### Alpha: 0.0387  Progress: 22.53%  Million Words/sec: 9.39 #####\u001b[0m\n",
      "\u001b[31m##### Alpha: 0.0362  Progress: 27.53%  Million Words/sec: 9.53 #####\u001b[0m\n",
      "\u001b[31m##### Alpha: 0.0337  Progress: 32.54%  Million Words/sec: 9.63 #####\u001b[0m\n",
      "\u001b[31m##### Alpha: 0.0312  Progress: 37.55%  Million Words/sec: 9.71 #####\u001b[0m\n",
      "\u001b[31m##### Alpha: 0.0287  Progress: 42.70%  Million Words/sec: 9.77 #####\u001b[0m\n",
      "\u001b[31m##### Alpha: 0.0261  Progress: 47.71%  Million Words/sec: 9.82 #####\u001b[0m\n",
      "\u001b[31m##### Alpha: 0.0236  Progress: 52.85%  Million Words/sec: 9.85 #####\u001b[0m\n",
      "\u001b[31m##### Alpha: 0.0211  Progress: 57.85%  Million Words/sec: 9.88 #####\u001b[0m\n",
      "\u001b[31m##### Alpha: 0.0185  Progress: 63.01%  Million Words/sec: 9.91 #####\u001b[0m\n",
      "\u001b[31m##### Alpha: 0.0160  Progress: 68.01%  Million Words/sec: 9.93 #####\u001b[0m\n",
      "\u001b[31m##### Alpha: 0.0135  Progress: 73.01%  Million Words/sec: 9.95 #####\u001b[0m\n",
      "\u001b[31m##### Alpha: 0.0110  Progress: 78.02%  Million Words/sec: 9.97 #####\u001b[0m\n",
      "\u001b[31m##### Alpha: 0.0084  Progress: 83.17%  Million Words/sec: 9.99 #####\u001b[0m\n",
      "\u001b[31m##### Alpha: 0.0058  Progress: 88.32%  Million Words/sec: 10.00 #####\u001b[0m\n",
      "\u001b[31m##### Alpha: 0.0033  Progress: 93.32%  Million Words/sec: 10.01 #####\u001b[0m\n",
      "\u001b[31m##### Alpha: 0.0008  Progress: 98.33%  Million Words/sec: 10.02 #####\u001b[0m\n",
      "\u001b[31m##### Alpha: 0.0000  Progress: 100.00%  Million Words/sec: 10.02 #####\u001b[0m\n",
      "\u001b[31mTraining finished.\u001b[0m\n",
      "\u001b[31mAverage throughput in Million words/sec: 10.02\u001b[0m\n",
      "\u001b[31mTotal training time in seconds: 65.39\u001b[0m\n",
      "\u001b[31mEvaluating word embeddings....\u001b[0m\n",
      "\u001b[31mVectors read from: /opt/ml/model/vectors.txt \u001b[0m\n",
      "\u001b[31m{\n",
      "    \"EN-WS-353-ALL.txt\": {\n",
      "        \"not_found\": 2, \n",
      "        \"spearmans_rho\": 0.5795943981067397, \n",
      "        \"total_pairs\": 353\n",
      "    }, \n",
      "    \"EN-WS-353-REL.txt\": {\n",
      "        \"not_found\": 1, \n",
      "        \"spearmans_rho\": 0.5222618744822383, \n",
      "        \"total_pairs\": 252\n",
      "    }, \n",
      "    \"EN-WS-353-SIM.txt\": {\n",
      "        \"not_found\": 1, \n",
      "        \"spearmans_rho\": 0.6666242012029381, \n",
      "        \"total_pairs\": 203\n",
      "    }, \n",
      "    \"mean_rho\": 0.589493491263972\u001b[0m\n",
      "\u001b[31m}\u001b[0m\n",
      "\u001b[31m[03/13/2019 16:51:35 INFO 139967447238464] #mean_rho: 0.589493491264\u001b[0m\n",
      "\n",
      "2019-03-13 16:51:40 Uploading - Uploading generated training model\n",
      "2019-03-13 16:52:47 Completed - Training job completed\n",
      "Billable seconds: 186\n"
     ]
    }
   ],
   "source": [
    "bt_model.fit(inputs=data_channels, logs=True)"
   ]
  },
  {
   "cell_type": "code",
   "execution_count": 18,
   "metadata": {},
   "outputs": [
    {
     "name": "stderr",
     "output_type": "stream",
     "text": [
      "INFO:sagemaker:Creating model with name: blazingtext-2019-03-13-17-28-37-472\n",
      "INFO:sagemaker:Creating endpoint with name qanv-2019-03-13-16-48-02-211\n"
     ]
    },
    {
     "name": "stdout",
     "output_type": "stream",
     "text": [
      "---------------------------------------------------------------------------!"
     ]
    }
   ],
   "source": [
    "text_classifier = bt_model.deploy(initial_instance_count = 1,instance_type = 'ml.m4.xlarge')"
   ]
  },
  {
   "cell_type": "code",
   "execution_count": 36,
   "metadata": {},
   "outputs": [
    {
     "name": "stdout",
     "output_type": "stream",
     "text": [
      "[{'vector': [0.0, 0.0, 0.0, 0.0, 0.0, 0.0, 0.0, 0.0, 0.0, 0.0, 0.0, 0.0, 0.0, 0.0, 0.0, 0.0, 0.0, 0.0, 0.0, 0.0, 0.0, 0.0, 0.0, 0.0, 0.0, 0.0, 0.0, 0.0, 0.0, 0.0, 0.0, 0.0, 0.0, 0.0, 0.0, 0.0, 0.0, 0.0, 0.0, 0.0, 0.0, 0.0, 0.0, 0.0, 0.0, 0.0, 0.0, 0.0, 0.0, 0.0, 0.0, 0.0, 0.0, 0.0, 0.0, 0.0, 0.0, 0.0, 0.0, 0.0, 0.0, 0.0, 0.0, 0.0, 0.0, 0.0, 0.0, 0.0, 0.0, 0.0, 0.0, 0.0, 0.0, 0.0, 0.0, 0.0, 0.0, 0.0, 0.0, 0.0, 0.0, 0.0, 0.0, 0.0, 0.0, 0.0, 0.0, 0.0, 0.0, 0.0, 0.0, 0.0, 0.0, 0.0, 0.0, 0.0, 0.0, 0.0, 0.0, 0.0], 'word': 'horrrrible'}, {'vector': [2.2700140476226807, 0.6127733588218689, -0.48993268609046936, -0.014852423220872879, 1.1655844449996948, -1.9192851781845093, -1.2825520038604736, 1.6169021129608154, -2.3218791484832764, -1.2199220657348633, -1.3224515914916992, -1.4580748081207275, 0.4723014235496521, 1.117205023765564, 0.22182601690292358, -1.0629606246948242, 3.4273619651794434, -2.3054604530334473, 0.8330034613609314, -1.7547646760940552, 3.6889243125915527, 0.4035491943359375, -0.7879123687744141, 1.3946644067764282, -0.40026769042015076, 0.8010654449462891, 1.7183161973953247, -0.36059868335723877, 0.22606462240219116, 1.9076353311538696, -1.607001543045044, -0.9314155578613281, 3.5501914024353027, -0.2117525190114975, -1.5947232246398926, -1.8664815425872803, -1.4928483963012695, -2.4030280113220215, 2.933398962020874, 1.6036072969436646, 2.104971408843994, -0.42958515882492065, 1.0093756914138794, -1.1815730333328247, 0.17633502185344696, 0.766140341758728, -1.8467482328414917, -0.04136602208018303, -0.8494100570678711, -0.5526872277259827, -0.6106553673744202, 2.147697687149048, -1.616005301475525, 1.8372621536254883, -0.7367984056472778, 1.3067302703857422, -1.0235246419906616, -2.0521929264068604, -0.894559919834137, 0.6161395311355591, -0.5156658887863159, -1.9551690816879272, -0.23986627161502838, -1.6026982069015503, -1.1639914512634277, -3.856889247894287, 2.525651454925537, 1.2849494218826294, -0.9932186007499695, -0.9923727512359619, -1.7604962587356567, 0.7375569939613342, 0.18363267183303833, 1.6330726146697998, -0.15756855905056, 0.5772324800491333, 0.04796319827437401, -0.5925252437591553, -0.6363472938537598, 0.1164870485663414, -0.9090267419815063, 1.0944108963012695, -0.08682527393102646, 1.1049126386642456, -0.3734036087989807, -0.33862754702568054, 2.979867458343506, -0.28778624534606934, 0.7002828121185303, 1.000280737876892, -0.5827201008796692, -0.9632132053375244, -2.0329606533050537, -2.127620220184326, -1.3824397325515747, 0.6268081068992615, -0.03956710547208786, -2.220831871032715, 0.6580016016960144, -0.8535075187683105], 'word': 'trash'}]\n"
     ]
    }
   ],
   "source": [
    "words = [\"horrrrible\", \"trash\"]\n",
    "\n",
    "payload = {\"instances\" : words}\n",
    "response = text_classifier.predict(json.dumps(payload))\n",
    "\n",
    "vecs = json.loads(response)\n",
    "print(vecs)"
   ]
  },
  {
   "cell_type": "code",
   "execution_count": 24,
   "metadata": {},
   "outputs": [
    {
     "data": {
      "text/plain": [
       "1"
      ]
     },
     "execution_count": 24,
     "metadata": {},
     "output_type": "execute_result"
    }
   ],
   "source": [
    "len(vecs)"
   ]
  },
  {
   "cell_type": "code",
   "execution_count": null,
   "metadata": {},
   "outputs": [],
   "source": [
    "#sess.delete_endpoint(text_classifier.endpoint)"
   ]
  },
  {
   "cell_type": "code",
   "execution_count": 29,
   "metadata": {},
   "outputs": [],
   "source": [
    "s3 = boto3.resource('s3')\n",
    "\n",
    "key = bt_model.model_data[bt_model.model_data.find(\"/\", 5)+1:]\n",
    "s3.Bucket(bucket).download_file(key, 'model.tar.gz')"
   ]
  },
  {
   "cell_type": "code",
   "execution_count": 30,
   "metadata": {},
   "outputs": [
    {
     "name": "stdout",
     "output_type": "stream",
     "text": [
      "vectors.bin\n",
      "vectors.txt\n",
      "eval.json\n"
     ]
    }
   ],
   "source": [
    "!tar -xvzf model.tar.gz\n"
   ]
  },
  {
   "cell_type": "code",
   "execution_count": 31,
   "metadata": {},
   "outputs": [
    {
     "name": "stdout",
     "output_type": "stream",
     "text": [
      "{\r\n",
      "    \"EN-WS-353-ALL.txt\": {\r\n",
      "        \"not_found\": 2, \r\n",
      "        \"spearmans_rho\": 0.5795943981067397, \r\n",
      "        \"total_pairs\": 353\r\n",
      "    }, \r\n",
      "    \"EN-WS-353-REL.txt\": {\r\n",
      "        \"not_found\": 1, \r\n",
      "        \"spearmans_rho\": 0.5222618744822383, \r\n",
      "        \"total_pairs\": 252\r\n",
      "    }, \r\n",
      "    \"EN-WS-353-SIM.txt\": {\r\n",
      "        \"not_found\": 1, \r\n",
      "        \"spearmans_rho\": 0.6666242012029381, \r\n",
      "        \"total_pairs\": 203\r\n",
      "    }, \r\n",
      "    \"mean_rho\": 0.589493491263972\r\n",
      "}"
     ]
    }
   ],
   "source": [
    "!cat eval.json"
   ]
  },
  {
   "cell_type": "code",
   "execution_count": 33,
   "metadata": {},
   "outputs": [
    {
     "name": "stdout",
     "output_type": "stream",
     "text": [
      "'transfer 0.062377 -0.10936 -0.12911 -0.11181 -0.11554 0.1634 -0.23542 0.046187 -0.065376 -0.12088 -0.076733 -0.03615 -0.088259 0.13347 -0.20051 0.21715 -0.038717 -0.12783 -0.059941 -0.1095 0.076013 0.20342 -0.056472 0.00072833 -0.14937 0.060273 0.11839 -0.065265 -0.21392 -0.030054 0.0033082 0.094757 0.13524 -0.042168 -0.25884 -0.0055309 0.033899 -0.065565 -0.094133 0.0097037 -0.025183 0.082376 0.082879 -0.0093927 0.097018 -0.15122 0.038692 -0.18472 -0.078521 -0.033271 -0.12886 -0.088696 -0.11394 0.33585 0.17094 -0.10686 0.07123 0.031806 0.025187 0.11603 0.15862 -0.016338 0.33123 0.054597 0.21702 -0.083176 -0.15199 -0.00026778 -0.088092 -0.26373 -0.060427 -0.12375 -0.070398 0.0021898 -0.18187 -0.23028 0.16315 0.068779 0.34453 -0.016138 0.082578 -0.017507 -0.040703 -0.086547 0.11493 0.1013 0.1472 0.28237 -0.11882 0.13482 0.11589 -0.13882 0.19688 -0.17772 -0.13909 -0.13836 -0.21253 -0.0050515 0.08291 -0.13659 \r\n",
      "damagingly 0.17294 0.25935 -0.055217 0.046135 0.15599 0.08519 -0.29102 0.19346 0.14566 0.013346 -0.048106 0.044108 0.11856 -0.010262 -0.14946 0.049516 -0.075208 -0.052606 -0.03879 -0.058603 0.074356 0.044908 0.0834 0.017565 0.014629 0.054791 0.1391 -0.17536 -0.24875 0.0927 -0.10874 -0.02067 0.011921 -0.12026 -0.09823 -0.039765 0.041232 -0.13112 -0.10489 -0.012878 -0.14317 0.16648 0.12028 0.15417 0.18273 0.075554 0.17681 -0.16158 0.11598 0.063994 -0.29659 -0.20616 -0.12384 0.1677 0.0027262 -0.075832 -0.0062087 -0.26276 0.10489 0.11798 0.31556 0.12104 0.26448 -0.092649 0.2101 0.019283 -0.066927 0.069971 -0.013852 0.0020553 -0.1825 0.050165 0.060114 -0.035851 -0.18319 0.088546 0.090903 0.15752 0.11343 0.056216 -0.031523 0.017553 -0.031543 0.051997 0.18384 0.22581 0.077884 0.20223 -0.097228 0.11233 -0.10953 0.10371 0.20925 -0.097452 -0.19838 -0.063135 -0.0016065 0.13435 -0.13559 0.13463 \r\n",
      "horrrrrible 0.071896 0.084056 -0.025822 0.041826 0.0070426 -0.05518 -0.040001 0.17259 0.013001 0.074253 -0.0035898 0.0050925 0.07148 0.011655 -0.069844 -0.05301 0.026523 -0.09924 -0.070884 -0.14093 0.050231 0.15734 0.017285 0.098784 -0.18744 -0.0795 0.085012 0.038713 -0.10794 0.051521 0.012079 0.062223 -0.024485 -0.026963 -0.049868 -0.090712 0.040091 -0.032108 0.039392 0.054755 -0.14396 0.12449 -0.029594 0.069146 0.11291 0.057328 0.080069 -0.05978 0.014807 0.00080791 -0.043523 0.1211 -0.0036824 0.10743 -0.0095374 0.0086819 0.0043387 -0.018309 -0.062563 0.02725 0.062247 -0.019811 0.046016 0.13133 0.09608 0.053669 -0.016545 0.011667 -0.030275 -0.073419 0.0060416 -0.050874 -0.095964 0.049082 0.010072 0.13693 0.053983 -0.073736 -0.009728 -0.046584 0.011945 0.15332 -0.013296 -0.023832 0.23289 0.099679 0.032912 0.064328 -0.017125 0.041841 0.012602 0.0021891 0.17175 -0.055776 -0.072004 -0.094306 -0.090934 0.018649 -0.091975 -0.0485 \r\n",
      "sounding.if -0.0068989 0.053014 0.0045017 0.13134 0.08994 -0.032086 -0.41563 0.05115 0.018342 -0.093399 0.015101 -0.079342 0.081249 -0.050317 0.039694 0.15115 0.0050499 -0.13775 -0.24887 0.060524 0.016335 -0.05656 -0.020888 -0.0035316 0.036348 0.1098 0.1387 -0.14062 -0.096278 -0.053527 -0.024206 0.028928 0.0045652 0.033585 -0.15185 -0.23506 0.236 -0.11945 0.067873 -0.025353 -0.22402 -0.0081061 0.028793 -0.0017337 0.026782 -0.019142 0.20032 -0.16753 0.12303 0.068042 -0.26819 -0.28483 0.014799 -0.0052118 0.26366 -0.043849 -0.18232 0.065529 -0.039209 -0.079437 0.0028836 -0.1754 -0.029034 0.064678 0.10894 0.082026 -0.079953 0.013038 -0.025947 -0.043068 -0.096817 0.23657 -0.099099 0.15973 -0.0093101 -0.066723 0.19568 0.13673 0.0081831 0.18099 0.092838 0.079135 0.23393 0.23379 0.023043 0.23332 0.084628 0.072327 -0.10598 -0.017495 -0.036586 0.068352 -0.066623 -0.069 0.054943 0.0074777 -0.33054 0.062081 0.099607 -0.0074729 \r\n",
      "punishers 0.14798 0.077339 -0.071786 0.0023391 -0.088025 -0.1633 -0.13134 0.017566 0.011794 -0.070652 -0.1212 -0.05252 0.084266 0.082834 -0.068437 0.15824 -0.020748 -0.059626 -0.15716 0.00085045 0.11941 0.07609 -0.116 0.16153 -0.28858 0.014105 0.13648 0.016134 -0.18079 0.067596 -0.0065822 0.067383 -0.11734 0.038558 -0.16965 0.02698 0.082508 -0.04328 0.012599 0.07837 0.086516 0.035585 0.062168 0.19405 0.11454 0.027009 0.11908 0.048013 0.016422 0.028786 -0.0696 -0.088514 -0.12012 0.1641 -0.18001 -0.23003 -0.15104 -0.082365 0.12606 0.040384 0.16597 -0.14207 0.23362 0.015083 0.26459 0.050436 -0.093952 -0.15936 -0.088365 -0.12387 -0.075277 0.11439 0.0082281 -0.21332 -0.089666 -0.076256 0.094176 -0.01597 -0.00080464 0.082011 0.11001 -0.00037691 0.063172 -0.087782 0.063697 0.10445 0.19254 0.098572 -0.18996 -0.066728 0.14699 -0.088878 0.13855 -0.16073 -0.094505 -0.032772 -0.050604 0.042275 -0.10014 0.013897 \r\n",
      "/which 0.059461 -0.15776 0.047407 -0.085825 0.054261 -0.044074 -0.079445 -0.011949 0.10833 -0.042839 -0.072989 0.032239 0.030114 0.025048 -0.066112 0.092192 -0.021464 -0.07285 -0.038243 -0.13666 0.16766 0.020118 -0.10408 -0.16335 0.049303 0.15934 0.048975 -0.011627 -0.22443 0.18296 -0.08652 -0.073342 -0.0080157 -0.11619 -0.12113 -0.083356 -0.17157 0.0024818 -0.21005 -0.14625 0.01202 -0.10928 0.21535 0.091761 0.19889 -0.08489 -0.1272 -0.0079985 0.21778 -0.011806 0.0084141 -0.089039 -0.096427 -0.13361 -0.15288 -0.05685 -0.0097485 -0.00048482 -0.095387 0.028823 0.10903 -0.15082 0.062457 -0.023395 -0.024046 -0.12272 -0.15747 0.011776 0.08165 -0.092173 -0.021816 -0.17425 0.10756 -0.025072 0.16599 -0.0080628 0.15209 -0.021012 0.22381 0.17664 -0.18595 -0.04688 0.0060682 -0.037631 0.15267 -0.015273 0.0023142 0.085671 -0.077646 -0.08502 0.10678 0.11535 -0.072099 -0.10186 -0.14251 0.049002 -0.043363 -0.04805 0.10043 -0.023615 \r\n",
      "'lisey 0.26839 0.056422 0.028553 -0.13977 0.071853 -0.16863 -0.14019 0.14969 0.092389 0.037647 -0.025526 0.0025847 -0.062282 -0.13862 -0.16159 0.079124 0.074933 -0.02661 0.021051 -0.054503 0.030032 -0.0061612 -0.071165 0.13018 0.050771 0.017217 0.30234 -0.12588 -0.12381 -0.010424 0.08914 -0.0297 -0.1208 -0.14443 -0.21601 -0.2008 0.083768 -0.11491 -0.20241 0.040381 -0.029758 0.02071 0.12009 0.19668 0.12712 -0.0026342 0.012532 -0.037706 -0.051952 -0.077724 -0.20118 0.073519 -0.050818 0.16387 -0.11088 -0.054474 -0.010545 0.12802 0.15012 -0.0058981 0.18681 -0.064018 0.16629 0.067805 0.28844 0.028462 0.1029 0.0017953 -0.014516 -0.12969 -0.087465 -0.003036 0.18013 0.006853 -0.11719 -0.051761 0.021348 0.022172 -0.013387 -0.11251 0.10682 0.1174 0.16094 -0.0054853 0.17287 0.0067521 0.051987 0.23119 -0.030781 0.014318 0.14207 -0.015118 0.063056 -0.18142 -0.16467 -0.054273 -0.12217 -0.06594 -0.21429 0.066471 \r\n",
      "23g -0.087027 -0.076364 0.041294 0.13045 0.15196 0.13046 -0.051898 -0.12284 -0.00046922 -0.037226 0.10257 0.061791 -0.062205 -0.11118 -0.11765 -0.27442 0.041699 -0.059133 0.064865 -0.035056 0.043617 -0.11965 -0.041294 0.011218 -0.027585 -0.018918 -0.10021 -0.10543 0.078442 0.093955 -0.16899 -0.081224 -0.020389 -0.056437 0.035007 0.0086017 -0.021345 0.012141 -0.16564 -0.046417 -0.13334 -0.099044 -0.075121 -0.04529 0.081864 -0.056328 0.031746 -0.06229 -0.10464 0.01491 -0.19598 -0.073275 0.0027839 0.048837 0.046533 0.0099823 0.040933 0.075693 -0.032417 -0.0072009 -0.095299 0.0062328 -0.075672 0.04841 -0.048155 0.093724 -0.17775 0.035522 0.12312 0.042273 0.046296 -0.27336 0.024208 0.16786 -0.064906 -0.14416 0.013438 -0.047328 0.078862 0.065371 0.10111 -0.087512 0.05752 -0.12133 0.046898 -0.22449 0.080602 -0.046365 -0.088233 -0.17585 -0.021834 -0.1123 0.2645 -0.08989 0.024323 -0.19836 0.017607 0.04433 -0.0095322 -0.024931 \r\n",
      "integrationist 0.089583 0.23738 0.041089 -0.014133 -0.096228 0.10533 -0.24042 -0.057644 -0.072603 0.10461 -0.023444 -0.0058578 -0.041165 0.045896 0.03351 -0.042201 -0.1375 -0.025133 -0.0093547 -0.05654 -0.10033 0.035103 -0.18269 0.012697 -0.16674 0.15153 -0.037304 0.071171 -0.053001 -0.055296 0.046229 -0.10633 -0.18058 0.005104 0.023705 -0.024421 0.024511 -0.21619 -0.21366 -0.093305 -0.076599 0.16546 -0.017718 0.023766 0.016456 -0.019944 0.032023 -0.051685 0.10834 -0.065107 -0.1109 -0.0017045 -0.084151 -0.035791 -0.0086689 0.18912 -0.058152 0.17284 0.18848 0.099728 0.11843 0.11457 0.16038 0.1247 0.024217 0.11224 -0.10122 0.044117 0.029157 -0.060767 -0.077908 -0.045497 0.14069 0.012436 0.008219 -0.11288 0.021126 0.0036956 -0.013759 0.011893 0.093678 0.16916 0.025496 -0.015913 0.019183 -0.15647 0.084583 0.20734 -0.13687 -0.061609 0.067519 -0.092616 0.23739 -0.033214 0.051685 -0.18578 -0.0444 0.12938 0.082613 -0.20529 \r\n",
      "performances.. 0.10163 0.034149 0.085245 -0.014226 0.072201 0.073515 -0.076536 0.1681 0.20521 0.15678 0.095236 0.043504 -0.1909 -0.061954 -0.099482 0.036352 0.022969 0.050782 -0.20482 -0.039884 -0.028157 0.081197 0.042176 -0.082171 -0.13819 -0.17708 0.25063 0.095311 -0.040906 0.01954 -0.057398 0.013831 -0.15624 0.083086 -0.20258 -0.017838 -0.041092 0.063113 -0.048283 -0.094319 0.013271 0.099356 -0.00031813 0.033946 0.15975 0.0052207 0.053324 0.053279 0.1205 0.043261 -0.29569 -0.13823 -0.13734 0.05885 -0.12663 -0.037493 -0.055805 -0.070878 -0.062196 0.05116 0.042204 0.075734 0.14079 -0.075698 0.2541 0.036755 0.0075294 0.071182 -0.025085 -0.083775 0.089887 0.021059 0.033608 -0.17955 -0.17313 -0.090642 0.22165 0.1867 0.0031421 -0.10403 0.11152 0.078804 -0.069383 -0.24748 0.03889 0.12276 0.10388 0.10654 -0.096989 0.058705 0.142 0.030831 0.37045 -0.12776 -0.032373 -0.05684 -0.20315 0.031283 0.097082 -0.0051795 \r\n"
     ]
    }
   ],
   "source": [
    "!tail vectors.txt"
   ]
  },
  {
   "cell_type": "code",
   "execution_count": 50,
   "metadata": {},
   "outputs": [],
   "source": [
    "import numpy as np\n",
    "from sklearn.preprocessing import normalize\n",
    "\n",
    "# Read the 400 most frequent word vectors. The vectors in the file are in descending order of frequency.\n",
    "num_points = 100\n",
    "\n",
    "first_line = True\n",
    "index_to_word = []\n",
    "with open(\"vectors.txt\",\"r\") as f:\n",
    "    for line_num, line in enumerate(f):\n",
    "        if first_line:\n",
    "            dim = int(line.strip().split()[1])\n",
    "            word_vecs = np.zeros((num_points, dim), dtype=float)\n",
    "            first_line = False\n",
    "            continue\n",
    "        line = line.strip()\n",
    "        word = line.split()[0]\n",
    "        vec = word_vecs[line_num-1]\n",
    "        for index, vec_val in enumerate(line.split()[1:]):\n",
    "            vec[index] = float(vec_val)\n",
    "        index_to_word.append(word)\n",
    "        if line_num >= num_points:\n",
    "            break\n",
    "word_vecs = normalize(word_vecs, copy=False, return_norm=False)"
   ]
  },
  {
   "cell_type": "code",
   "execution_count": 44,
   "metadata": {},
   "outputs": [
    {
     "data": {
      "text/plain": [
       "(array([-0.07267984, -0.14680937, -0.07477766, -0.22907323,  0.22092994,\n",
       "        -0.28268857,  0.06015426,  0.02916117, -0.00247341, -0.00374694,\n",
       "         0.15536174, -0.09997073,  0.18334552,  0.09008629, -0.04785111,\n",
       "         0.01686186, -0.03044338, -0.01848157,  0.06127156,  0.02819088,\n",
       "         0.03073997, -0.00971097,  0.02887609,  0.08180749, -0.11990454,\n",
       "         0.10923772, -0.12248048, -0.06165891, -0.10581038, -0.01163161,\n",
       "        -0.14738464, -0.04117923,  0.0807656 , -0.04228503,  0.0564674 ,\n",
       "        -0.02563795, -0.03375439,  0.10269113,  0.03402541,  0.00823137,\n",
       "        -0.07607139,  0.17186565, -0.05292756, -0.13339914, -0.16191984,\n",
       "         0.07535038, -0.08942281,  0.01856338,  0.03493817,  0.19582252,\n",
       "         0.1353295 ,  0.0450489 , -0.02279738, -0.03791041,  0.03199534,\n",
       "         0.08506225, -0.07423435, -0.19767618, -0.06958999, -0.05461503,\n",
       "        -0.06573056, -0.04872808, -0.03970398,  0.02433783, -0.00298783,\n",
       "        -0.1794848 ,  0.0265929 , -0.08688266, -0.01718784, -0.02298147,\n",
       "        -0.17926748,  0.10163007, -0.0115714 , -0.00255267,  0.04446851,\n",
       "         0.05431077, -0.04407733,  0.04185294, -0.0488035 , -0.18277024,\n",
       "         0.14242452, -0.08579092,  0.08296059, -0.04837269, -0.10289695,\n",
       "         0.09104763, -0.01842915,  0.08655667, -0.05137561, -0.16330049,\n",
       "        -0.03686853, -0.19756112, -0.19380268,  0.12713123,  0.09922544,\n",
       "        -0.03572438,  0.12441595, -0.04437647, -0.11115018,  0.01844194]),\n",
       " 'working')"
      ]
     },
     "execution_count": 44,
     "metadata": {},
     "output_type": "execute_result"
    }
   ],
   "source": [
    "word_vecs[0], index_to_word[399]"
   ]
  },
  {
   "cell_type": "code",
   "execution_count": 51,
   "metadata": {},
   "outputs": [],
   "source": [
    "from sklearn.manifold import TSNE\n",
    "\n",
    "tsne = TSNE(perplexity=40, n_components=2, init='pca', n_iter=10000)\n",
    "two_d_embeddings = tsne.fit_transform(word_vecs[:num_points])\n",
    "labels = index_to_word[:num_points]"
   ]
  },
  {
   "cell_type": "code",
   "execution_count": 52,
   "metadata": {},
   "outputs": [
    {
     "data": {
      "image/png": "[encoded data removed]",
      "text/plain": [
       "<Figure size 1440x1440 with 1 Axes>"
      ]
     },
     "metadata": {},
     "output_type": "display_data"
    }
   ],
   "source": [
    "from matplotlib import pylab\n",
    "%matplotlib inline\n",
    "\n",
    "def plot(embeddings, labels):\n",
    "    pylab.figure(figsize=(20,20))\n",
    "    for i, label in enumerate(labels):\n",
    "        x, y = embeddings[i,:]\n",
    "        pylab.scatter(x, y)\n",
    "        pylab.annotate(label, xy=(x, y), xytext=(5, 2), textcoords='offset points',\n",
    "                       ha='right', va='bottom')\n",
    "    pylab.show()\n",
    "\n",
    "plot(two_d_embeddings, labels)"
   ]
  },
  {
   "cell_type": "markdown",
   "metadata": {},
   "source": [
    "## convert sentence to features using word2vec"
   ]
  },
  {
   "cell_type": "code",
   "execution_count": 77,
   "metadata": {},
   "outputs": [],
   "source": [
    "vector_file = 'vectors.txt'\n",
    "with open(vector_file, 'r') as csvinfile:\n",
    "    word2vec = dict()\n",
    "    csv_reader = csv.reader(csvinfile, delimiter=' ')\n",
    "    for row in csv_reader:\n",
    "        word2vec[row[0]] = row[1:101]\n",
    "        "
   ]
  },
  {
   "cell_type": "code",
   "execution_count": 101,
   "metadata": {},
   "outputs": [],
   "source": [
    "def add_word2vec_instance(row):\n",
    "    cur_row = []\n",
    "    vec = np.zeros(100)\n",
    "    cur_row.extend(nltk.word_tokenize(row[1].lower()))\n",
    "    cur_row.extend(nltk.word_tokenize(row[2].lower()))\n",
    "    sentence_len = 1\n",
    "    for word in cur_row:\n",
    "        if word in word2vec:\n",
    "            vec += np.array(word2vec[word], dtype=np.float32)\n",
    "            sentence_len += 1    \n",
    "    return vec/sentence_len"
   ]
  },
  {
   "cell_type": "code",
   "execution_count": 102,
   "metadata": {},
   "outputs": [],
   "source": [
    "def convert_sentence_to_vector(input_file, output_file):\n",
    "    all_rows = []\n",
    "    with open(input_file, 'r') as csvinfile:\n",
    "        csv_reader = csv.reader(csvinfile, delimiter=',')\n",
    "        for row in csv_reader:\n",
    "            all_rows.append(row)\n",
    "    pool = Pool(processes=multiprocessing.cpu_count())\n",
    "    transformed_rows = pool.map(add_word2vec_instance, all_rows)\n",
    "    pool.close() \n",
    "    pool.join()\n",
    "    \n",
    "    with open(output_file, 'w') as csvoutfile:\n",
    "        csv_writer = csv.writer(csvoutfile, delimiter=',', lineterminator='\\n')\n",
    "        csv_writer.writerows(transformed_rows)"
   ]
  },
  {
   "cell_type": "code",
   "execution_count": null,
   "metadata": {},
   "outputs": [],
   "source": [
    "%%timeit\n",
    "# Preparing the training dataset\n",
    "\n",
    "# Since preprocessing the whole dataset might take a couple of mintutes,\n",
    "#  \n",
    "#  \n",
    "convert_sentence_to_vector('/home/ec2-user/SageMaker/amazon_review_polarity_csv/train.csv', 'polarity_vector.train')\n",
    "convert_sentence_to_vector('/home/ec2-user/SageMaker/amazon_review_polarity_csv/test.csv', 'polarity_vector.test')\n",
    "       "
   ]
  },
  {
   "cell_type": "code",
   "execution_count": 107,
   "metadata": {},
   "outputs": [
    {
     "name": "stdout",
     "output_type": "stream",
     "text": [
      "3600000 polarity_vector.train\r\n"
     ]
    }
   ],
   "source": [
    "!wc -l polarity_vector.train"
   ]
  },
  {
   "cell_type": "code",
   "execution_count": null,
   "metadata": {},
   "outputs": [],
   "source": []
  }
 ],
 "metadata": {
  "kernelspec": {
   "display_name": "conda_python3",
   "language": "python",
   "name": "conda_python3"
  },
  "language_info": {
   "codemirror_mode": {
    "name": "ipython",
    "version": 3
   },
   "file_extension": ".py",
   "mimetype": "text/x-python",
   "name": "python",
   "nbconvert_exporter": "python",
   "pygments_lexer": "ipython3",
   "version": "3.6.5"
  }
 },
 "nbformat": 4,
 "nbformat_minor": 2
}
